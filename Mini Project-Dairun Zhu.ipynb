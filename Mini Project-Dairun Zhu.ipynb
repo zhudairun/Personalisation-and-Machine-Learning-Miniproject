{
 "cells": [
  {
   "cell_type": "markdown",
   "metadata": {},
   "source": [
    "# Wine recommendation\n",
    "This is a wine tasting dataset with scores and descriptions of the wines, as well as the corresponding tasters\n"
   ]
  },
  {
   "cell_type": "code",
   "execution_count": 47,
   "metadata": {},
   "outputs": [],
   "source": [
    "import pandas as pd \n",
    "import matplotlib.pyplot as plt"
   ]
  },
  {
   "cell_type": "code",
   "execution_count": 48,
   "metadata": {},
   "outputs": [],
   "source": [
    "#load dataset\n",
    "df=pd.read_csv('data/winemag-data-130k-v2.csv')"
   ]
  },
  {
   "cell_type": "markdown",
   "metadata": {},
   "source": [
    "### Basic Analysis of the Data Set"
   ]
  },
  {
   "cell_type": "code",
   "execution_count": 54,
   "metadata": {},
   "outputs": [
    {
     "name": "stdout",
     "output_type": "stream",
     "text": [
      "Number of unique countries: 42\n"
     ]
    }
   ],
   "source": [
    "unique_countries = df['country'].unique()\n",
    "num_countries = len(unique_countries)\n",
    "print(\"Number of unique countries:\", num_countries)"
   ]
  },
  {
   "cell_type": "code",
   "execution_count": 55,
   "metadata": {},
   "outputs": [
    {
     "name": "stdout",
     "output_type": "stream",
     "text": [
      "Number of unique provinces: 355\n"
     ]
    }
   ],
   "source": [
    "unique_provinces = df['province'].unique()\n",
    "num_provinces = len(unique_provinces)\n",
    "print(\"Number of unique provinces:\", num_provinces)"
   ]
  },
  {
   "cell_type": "code",
   "execution_count": 56,
   "metadata": {},
   "outputs": [
    {
     "name": "stdout",
     "output_type": "stream",
     "text": [
      "Number of unique titles: 39344\n"
     ]
    }
   ],
   "source": [
    "unique_titles = df['title'].unique()\n",
    "num_titles = len(unique_titles)\n",
    "print(\"Number of unique titles:\", num_titles)"
   ]
  },
  {
   "cell_type": "code",
   "execution_count": 57,
   "metadata": {},
   "outputs": [
    {
     "name": "stdout",
     "output_type": "stream",
     "text": [
      "Number of unique taster names: 20\n"
     ]
    }
   ],
   "source": [
    "unique_taster_names = df['taster_name'].unique().tolist()\n",
    "num_taster_names = len(unique_taster_names)\n",
    "print(\"Number of unique taster names:\", num_taster_names)"
   ]
  },
  {
   "cell_type": "markdown",
   "metadata": {},
   "source": [
    "# ***In the first part***"
   ]
  },
  {
   "cell_type": "markdown",
   "metadata": {},
   "source": [
    "### Recommended wines from different countries（To avoid small probability events, I need to have requirements for the number of entries）"
   ]
  },
  {
   "cell_type": "code",
   "execution_count": 49,
   "metadata": {},
   "outputs": [],
   "source": [
    "country_points = df[['country', 'points']]\n",
    "\n",
    "country_counts = country_points['country'].value_counts()\n",
    "\n",
    "valid_countries = country_counts[country_counts >= 1000].index\n",
    "valid_country_points = country_points[country_points['country'].isin(valid_countries)]\n",
    "average_points_by_country = valid_country_points.groupby('country')['points'].mean()\n",
    "\n",
    "top_countries = average_points_by_country.sort_values(ascending=False).head(10)"
   ]
  },
  {
   "cell_type": "code",
   "execution_count": 50,
   "metadata": {},
   "outputs": [
    {
     "data": {
      "text/plain": [
       "country\n",
       "Austria      90.149140\n",
       "France       88.847597\n",
       "US           88.577100\n",
       "Italy        88.492023\n",
       "Portugal     88.190793\n",
       "Spain        87.290839\n",
       "Argentina    86.709544\n",
       "Chile        86.628998\n",
       "Name: points, dtype: float64"
      ]
     },
     "execution_count": 50,
     "metadata": {},
     "output_type": "execute_result"
    }
   ],
   "source": [
    "top_countries"
   ]
  },
  {
   "cell_type": "markdown",
   "metadata": {},
   "source": [
    "### Recommended wines from different province（To avoid small probability events, I need to have requirements for the number of entries）"
   ]
  },
  {
   "cell_type": "code",
   "execution_count": 41,
   "metadata": {},
   "outputs": [],
   "source": [
    "province_points = df[['province', 'points']]\n",
    "\n",
    "province_counts = province_points['province'].value_counts()\n",
    "\n",
    "valid_province = province_counts[province_counts >= 200].index\n",
    "valid_province_points = province_points[province_points['province'].isin(valid_province)]\n",
    "average_points_by_province = valid_province_points.groupby('province')['points'].mean()\n",
    "\n",
    "top_province = average_points_by_province.sort_values(ascending=False).head(10)"
   ]
  },
  {
   "cell_type": "code",
   "execution_count": 42,
   "metadata": {},
   "outputs": [
    {
     "data": {
      "text/plain": [
       "province\n",
       "Champagne          90.243043\n",
       "Mosel              90.075163\n",
       "Alsace             89.552113\n",
       "Burgundy           89.442478\n",
       "Piedmont           89.360533\n",
       "South Australia    89.283251\n",
       "Rhône Valley       89.094937\n",
       "Douro              89.060386\n",
       "Oregon             89.058288\n",
       "Tuscany            88.909432\n",
       "Name: points, dtype: float64"
      ]
     },
     "execution_count": 42,
     "metadata": {},
     "output_type": "execute_result"
    }
   ],
   "source": [
    "top_province"
   ]
  },
  {
   "cell_type": "markdown",
   "metadata": {},
   "source": [
    "### Knowing that Champagne is the highest rated province, I would like to know the top 10 variety here"
   ]
  },
  {
   "cell_type": "code",
   "execution_count": 64,
   "metadata": {},
   "outputs": [],
   "source": [
    "province = 'Champagne' #input the province what you want\n",
    "subset = df[df['province'] == province]\n",
    "\n",
    "average_scores = subset.groupby('variety')['points'].mean()\n",
    "sorted_varieties = average_scores.sort_values(ascending=False)\n",
    "\n",
    "top_10_varieties = sorted_varieties.head(10)"
   ]
  },
  {
   "cell_type": "code",
   "execution_count": 67,
   "metadata": {},
   "outputs": [
    {
     "data": {
      "text/plain": [
       "variety\n",
       "Chardonnay         91.510000\n",
       "Pinot Noir         90.047619\n",
       "Pinot Blanc        90.000000\n",
       "Champagne Blend    89.951456\n",
       "Pinot Meunier      89.750000\n",
       "Name: points, dtype: float64"
      ]
     },
     "execution_count": 67,
     "metadata": {},
     "output_type": "execute_result"
    }
   ],
   "source": [
    "top_10_varieties"
   ]
  },
  {
   "cell_type": "markdown",
   "metadata": {},
   "source": [
    "Knowing that Chardonnay is the highest rated variety,I would like to know the wine of Chardonnay"
   ]
  },
  {
   "cell_type": "code",
   "execution_count": 81,
   "metadata": {},
   "outputs": [],
   "source": [
    "top_variety_wines = df[df['variety'] == 'Chardonnay'] #input the variety what you want\n",
    "top_variety_wines = top_variety_wines.dropna(subset=['price'])\n",
    "sorted_top_variety_wines = top_variety_wines.sort_values('price', ascending=False)\n",
    "selected_columns = ['title','points', 'price']\n",
    "top_variety_ratings_prices = sorted_top_variety_wines[selected_columns]"
   ]
  },
  {
   "cell_type": "markdown",
   "metadata": {},
   "source": [
    "Here we can make recommendations according to price"
   ]
  },
  {
   "cell_type": "code",
   "execution_count": 82,
   "metadata": {},
   "outputs": [
    {
     "data": {
      "text/html": [
       "<div>\n",
       "<style scoped>\n",
       "    .dataframe tbody tr th:only-of-type {\n",
       "        vertical-align: middle;\n",
       "    }\n",
       "\n",
       "    .dataframe tbody tr th {\n",
       "        vertical-align: top;\n",
       "    }\n",
       "\n",
       "    .dataframe thead th {\n",
       "        text-align: right;\n",
       "    }\n",
       "</style>\n",
       "<table border=\"1\" class=\"dataframe\">\n",
       "  <thead>\n",
       "    <tr style=\"text-align: right;\">\n",
       "      <th></th>\n",
       "      <th>title</th>\n",
       "      <th>points</th>\n",
       "      <th>price</th>\n",
       "    </tr>\n",
       "  </thead>\n",
       "  <tbody>\n",
       "    <tr>\n",
       "      <th>30110</th>\n",
       "      <td>Olivier Leflaive 2014  Montrachet</td>\n",
       "      <td>97</td>\n",
       "      <td>886.0</td>\n",
       "    </tr>\n",
       "    <tr>\n",
       "      <th>36529</th>\n",
       "      <td>Krug 2002 Clos du Mesnil Brut Blanc de Blancs ...</td>\n",
       "      <td>99</td>\n",
       "      <td>800.0</td>\n",
       "    </tr>\n",
       "    <tr>\n",
       "      <th>30131</th>\n",
       "      <td>Olivier Leflaive 2014  Chevalier-Montrachet</td>\n",
       "      <td>95</td>\n",
       "      <td>710.0</td>\n",
       "    </tr>\n",
       "    <tr>\n",
       "      <th>353</th>\n",
       "      <td>Louis Latour 2014 Le Montrachet  (Montrachet)</td>\n",
       "      <td>96</td>\n",
       "      <td>630.0</td>\n",
       "    </tr>\n",
       "    <tr>\n",
       "      <th>30121</th>\n",
       "      <td>Olivier Leflaive 2014  Bâtard-Montrachet</td>\n",
       "      <td>95</td>\n",
       "      <td>569.0</td>\n",
       "    </tr>\n",
       "    <tr>\n",
       "      <th>...</th>\n",
       "      <td>...</td>\n",
       "      <td>...</td>\n",
       "      <td>...</td>\n",
       "    </tr>\n",
       "    <tr>\n",
       "      <th>32942</th>\n",
       "      <td>Pine &amp; Post 2006 Chardonnay (Washington)</td>\n",
       "      <td>87</td>\n",
       "      <td>6.0</td>\n",
       "    </tr>\n",
       "    <tr>\n",
       "      <th>30465</th>\n",
       "      <td>Gallo Family Vineyards 2005 Twin Valley Chardo...</td>\n",
       "      <td>83</td>\n",
       "      <td>5.0</td>\n",
       "    </tr>\n",
       "    <tr>\n",
       "      <th>8428</th>\n",
       "      <td>Earth's Harvest 2014 Organic Grapes Chardonnay...</td>\n",
       "      <td>85</td>\n",
       "      <td>5.0</td>\n",
       "    </tr>\n",
       "    <tr>\n",
       "      <th>37951</th>\n",
       "      <td>Earth's Harvest 2014 Organic Grapes Chardonnay...</td>\n",
       "      <td>85</td>\n",
       "      <td>5.0</td>\n",
       "    </tr>\n",
       "    <tr>\n",
       "      <th>31530</th>\n",
       "      <td>Bandit NV Chardonnay (California)</td>\n",
       "      <td>84</td>\n",
       "      <td>4.0</td>\n",
       "    </tr>\n",
       "  </tbody>\n",
       "</table>\n",
       "<p>3350 rows × 3 columns</p>\n",
       "</div>"
      ],
      "text/plain": [
       "                                                   title  points  price\n",
       "30110                  Olivier Leflaive 2014  Montrachet      97  886.0\n",
       "36529  Krug 2002 Clos du Mesnil Brut Blanc de Blancs ...      99  800.0\n",
       "30131        Olivier Leflaive 2014  Chevalier-Montrachet      95  710.0\n",
       "353        Louis Latour 2014 Le Montrachet  (Montrachet)      96  630.0\n",
       "30121           Olivier Leflaive 2014  Bâtard-Montrachet      95  569.0\n",
       "...                                                  ...     ...    ...\n",
       "32942           Pine & Post 2006 Chardonnay (Washington)      87    6.0\n",
       "30465  Gallo Family Vineyards 2005 Twin Valley Chardo...      83    5.0\n",
       "8428   Earth's Harvest 2014 Organic Grapes Chardonnay...      85    5.0\n",
       "37951  Earth's Harvest 2014 Organic Grapes Chardonnay...      85    5.0\n",
       "31530                  Bandit NV Chardonnay (California)      84    4.0\n",
       "\n",
       "[3350 rows x 3 columns]"
      ]
     },
     "execution_count": 82,
     "metadata": {},
     "output_type": "execute_result"
    }
   ],
   "source": [
    "top_variety_ratings_prices"
   ]
  },
  {
   "cell_type": "markdown",
   "metadata": {},
   "source": [
    "### Recommended wines from different varieties（To avoid small probability events, I need to have requirements for the number of entries）"
   ]
  },
  {
   "cell_type": "code",
   "execution_count": 35,
   "metadata": {},
   "outputs": [],
   "source": [
    "variety_points = df[['variety', 'points']]\n",
    "\n",
    "variety_counts = variety_points['variety'].value_counts()\n",
    "\n",
    "valid_variety = variety_counts[variety_counts >= 5].index\n",
    "valid_variety_points = variety_points[variety_points['variety'].isin(valid_variety)]\n",
    "average_points_by_variety = valid_variety_points.groupby('variety')['points'].mean()\n",
    "\n",
    "top_variety = average_points_by_variety.sort_values(ascending=False).head(10)"
   ]
  },
  {
   "cell_type": "code",
   "execution_count": 36,
   "metadata": {},
   "outputs": [
    {
     "data": {
      "text/plain": [
       "variety\n",
       "Picolit                   92.416667\n",
       "Furmint                   91.285714\n",
       "Savagnin                  91.285714\n",
       "Tokaji                    91.000000\n",
       "Neuburger                 90.666667\n",
       "Roter Veltliner           90.666667\n",
       "Gros and Petit Manseng    90.583333\n",
       "Alsace white blend        90.555556\n",
       "Austrian white blend      90.529412\n",
       "Scheurebe                 90.500000\n",
       "Name: points, dtype: float64"
      ]
     },
     "execution_count": 36,
     "metadata": {},
     "output_type": "execute_result"
    }
   ],
   "source": [
    "top_variety"
   ]
  },
  {
   "cell_type": "markdown",
   "metadata": {},
   "source": [
    "find wines with the variety \"Picolit\" and obtain the corresponding title, price, and points, sorted by score in descending order"
   ]
  },
  {
   "cell_type": "code",
   "execution_count": 78,
   "metadata": {},
   "outputs": [],
   "source": [
    "wanted_wines = df[df['variety'] == 'Picolit']\n",
    "wanted_wines = wanted_wines.dropna(subset=['price', 'points'])\n",
    "sorted_wanted_wines = wanted_wines.sort_values('points', ascending=False)\n",
    "selected_columns = ['title', 'price', 'points']\n",
    "wanted_data = sorted_wanted_wines[selected_columns]"
   ]
  },
  {
   "cell_type": "code",
   "execution_count": 83,
   "metadata": {
    "scrolled": true
   },
   "outputs": [
    {
     "data": {
      "text/html": [
       "<div>\n",
       "<style scoped>\n",
       "    .dataframe tbody tr th:only-of-type {\n",
       "        vertical-align: middle;\n",
       "    }\n",
       "\n",
       "    .dataframe tbody tr th {\n",
       "        vertical-align: top;\n",
       "    }\n",
       "\n",
       "    .dataframe thead th {\n",
       "        text-align: right;\n",
       "    }\n",
       "</style>\n",
       "<table border=\"1\" class=\"dataframe\">\n",
       "  <thead>\n",
       "    <tr style=\"text-align: right;\">\n",
       "      <th></th>\n",
       "      <th>title</th>\n",
       "      <th>price</th>\n",
       "      <th>points</th>\n",
       "    </tr>\n",
       "  </thead>\n",
       "  <tbody>\n",
       "    <tr>\n",
       "      <th>33842</th>\n",
       "      <td>Livio Felluga 2007 Picolit Picolit (Colli Orie...</td>\n",
       "      <td>90.0</td>\n",
       "      <td>97</td>\n",
       "    </tr>\n",
       "    <tr>\n",
       "      <th>33843</th>\n",
       "      <td>Livio Felluga 2006 Picolit Picolit (Colli Orie...</td>\n",
       "      <td>90.0</td>\n",
       "      <td>96</td>\n",
       "    </tr>\n",
       "    <tr>\n",
       "      <th>15613</th>\n",
       "      <td>Livio Felluga 2004 Picolit Picolit (Colli Orie...</td>\n",
       "      <td>100.0</td>\n",
       "      <td>95</td>\n",
       "    </tr>\n",
       "    <tr>\n",
       "      <th>36498</th>\n",
       "      <td>Rocca Bernarda 2004 Picolit (Colli Orientali d...</td>\n",
       "      <td>50.0</td>\n",
       "      <td>94</td>\n",
       "    </tr>\n",
       "    <tr>\n",
       "      <th>25960</th>\n",
       "      <td>Comelli 2011 Eoos Picolit (Colli Orientali del...</td>\n",
       "      <td>45.0</td>\n",
       "      <td>93</td>\n",
       "    </tr>\n",
       "    <tr>\n",
       "      <th>36501</th>\n",
       "      <td>Valchiarò 2004 Picolit (Colli Orientali del Fr...</td>\n",
       "      <td>90.0</td>\n",
       "      <td>93</td>\n",
       "    </tr>\n",
       "    <tr>\n",
       "      <th>23380</th>\n",
       "      <td>Jacùss 2007 Picolit (Colli Orientali del Friuli)</td>\n",
       "      <td>55.0</td>\n",
       "      <td>92</td>\n",
       "    </tr>\n",
       "    <tr>\n",
       "      <th>18510</th>\n",
       "      <td>Comelli 2009 Eoos Picolit (Colli Orientali del...</td>\n",
       "      <td>20.0</td>\n",
       "      <td>90</td>\n",
       "    </tr>\n",
       "    <tr>\n",
       "      <th>23862</th>\n",
       "      <td>Marco Cecchini 2005 Picolit (Colli Orientali d...</td>\n",
       "      <td>30.0</td>\n",
       "      <td>90</td>\n",
       "    </tr>\n",
       "    <tr>\n",
       "      <th>23864</th>\n",
       "      <td>Conte d'Attimis-Maniago 2004 Picolit (Colli Or...</td>\n",
       "      <td>60.0</td>\n",
       "      <td>90</td>\n",
       "    </tr>\n",
       "    <tr>\n",
       "      <th>39602</th>\n",
       "      <td>Ronchi di Cialla 2008 Cialla Picolit (Colli Or...</td>\n",
       "      <td>75.0</td>\n",
       "      <td>88</td>\n",
       "    </tr>\n",
       "  </tbody>\n",
       "</table>\n",
       "</div>"
      ],
      "text/plain": [
       "                                                   title  price  points\n",
       "33842  Livio Felluga 2007 Picolit Picolit (Colli Orie...   90.0      97\n",
       "33843  Livio Felluga 2006 Picolit Picolit (Colli Orie...   90.0      96\n",
       "15613  Livio Felluga 2004 Picolit Picolit (Colli Orie...  100.0      95\n",
       "36498  Rocca Bernarda 2004 Picolit (Colli Orientali d...   50.0      94\n",
       "25960  Comelli 2011 Eoos Picolit (Colli Orientali del...   45.0      93\n",
       "36501  Valchiarò 2004 Picolit (Colli Orientali del Fr...   90.0      93\n",
       "23380   Jacùss 2007 Picolit (Colli Orientali del Friuli)   55.0      92\n",
       "18510  Comelli 2009 Eoos Picolit (Colli Orientali del...   20.0      90\n",
       "23862  Marco Cecchini 2005 Picolit (Colli Orientali d...   30.0      90\n",
       "23864  Conte d'Attimis-Maniago 2004 Picolit (Colli Or...   60.0      90\n",
       "39602  Ronchi di Cialla 2008 Cialla Picolit (Colli Or...   75.0      88"
      ]
     },
     "execution_count": 83,
     "metadata": {},
     "output_type": "execute_result"
    }
   ],
   "source": [
    "wanted_data"
   ]
  },
  {
   "cell_type": "markdown",
   "metadata": {},
   "source": [
    "# ***In the second part（TF-IDF）***\n",
    "\n",
    "Studying code from week 2.1 Content Based Filtering \n",
    "\n",
    "I would like to use the description of the wine to achieve the recommendation of its following purchase after the purchase of a wine."
   ]
  },
  {
   "cell_type": "code",
   "execution_count": 7,
   "metadata": {},
   "outputs": [
    {
     "data": {
      "text/plain": [
       "Index(['Unnamed: 0', 'country', 'description', 'designation', 'points',\n",
       "       'price', 'province', 'region_1', 'region_2', 'taster_name',\n",
       "       'taster_twitter_handle', 'title', 'variety', 'winery'],\n",
       "      dtype='object')"
      ]
     },
     "execution_count": 7,
     "metadata": {},
     "output_type": "execute_result"
    }
   ],
   "source": [
    "df.columns"
   ]
  },
  {
   "cell_type": "code",
   "execution_count": 28,
   "metadata": {},
   "outputs": [],
   "source": [
    "taster_name_ids = df[\"taster_name\"].unique().tolist()\n",
    "title_ids = df[\"title\"].unique().tolist()"
   ]
  },
  {
   "cell_type": "code",
   "execution_count": 29,
   "metadata": {},
   "outputs": [],
   "source": [
    "#Make a dictionary mapping ids (keys) to indexes (values)\n",
    "taster_name_id_to_index = {x: i for i, x in enumerate(taster_name_ids)}\n",
    "title_id_to_index = {x: i for i, x in enumerate(title_ids)}"
   ]
  },
  {
   "cell_type": "code",
   "execution_count": 12,
   "metadata": {},
   "outputs": [
    {
     "name": "stdout",
     "output_type": "stream",
     "text": [
      "Number of taster names: 19\n",
      "List of taster names:\n",
      "['Roger Voss', 'Michael Schachner', 'Kerin O’Keefe', 'Paul Gregutt', 'Virginie Boone', 'Matt Kettmann', 'Joe Czerwinski', 'Sean P. Sullivan', 'Anna Lee C. Iijima', 'Jim Gordon', 'Anne Krebiehl\\xa0MW', 'Lauren Buzzeo', 'Susan Kostrzewa', 'Jeff Jenssen', 'Mike DeSimone', 'Alexander Peartree', 'Carrie Dykes', 'Fiona Adams', 'Christina Pickard']\n"
     ]
    }
   ],
   "source": [
    "taster_counts = df['taster_name'].value_counts()\n",
    "taster_names = taster_counts.index.tolist()\n",
    "\n",
    "print(\"Number of taster names:\", len(taster_names))\n",
    "print(\"List of taster names:\")\n",
    "print(taster_names)\n"
   ]
  },
  {
   "cell_type": "code",
   "execution_count": 78,
   "metadata": {},
   "outputs": [
    {
     "name": "stdout",
     "output_type": "stream",
     "text": [
      "Number of wines: 39344\n"
     ]
    }
   ],
   "source": [
    "print(\"Number of wines:\", len(title_id_to_index))"
   ]
  },
  {
   "cell_type": "code",
   "execution_count": 75,
   "metadata": {},
   "outputs": [
    {
     "name": "stdout",
     "output_type": "stream",
     "text": [
      "Total number of titles: 40430\n"
     ]
    }
   ],
   "source": [
    "num_titles = len(df['title'])\n",
    "print(\"Total number of titles:\", num_titles)"
   ]
  },
  {
   "cell_type": "code",
   "execution_count": 8,
   "metadata": {},
   "outputs": [
    {
     "data": {
      "text/html": [
       "<div>\n",
       "<style scoped>\n",
       "    .dataframe tbody tr th:only-of-type {\n",
       "        vertical-align: middle;\n",
       "    }\n",
       "\n",
       "    .dataframe tbody tr th {\n",
       "        vertical-align: top;\n",
       "    }\n",
       "\n",
       "    .dataframe thead th {\n",
       "        text-align: right;\n",
       "    }\n",
       "</style>\n",
       "<table border=\"1\" class=\"dataframe\">\n",
       "  <thead>\n",
       "    <tr style=\"text-align: right;\">\n",
       "      <th></th>\n",
       "      <th>Unnamed: 0</th>\n",
       "      <th>country</th>\n",
       "      <th>description</th>\n",
       "      <th>designation</th>\n",
       "      <th>points</th>\n",
       "      <th>price</th>\n",
       "      <th>province</th>\n",
       "      <th>region_1</th>\n",
       "      <th>region_2</th>\n",
       "      <th>taster_name</th>\n",
       "      <th>taster_twitter_handle</th>\n",
       "      <th>title</th>\n",
       "      <th>variety</th>\n",
       "      <th>winery</th>\n",
       "    </tr>\n",
       "  </thead>\n",
       "  <tbody>\n",
       "    <tr>\n",
       "      <th>0</th>\n",
       "      <td>0</td>\n",
       "      <td>Italy</td>\n",
       "      <td>Aromas include tropical fruit, broom, brimston...</td>\n",
       "      <td>Vulkà Bianco</td>\n",
       "      <td>87</td>\n",
       "      <td>NaN</td>\n",
       "      <td>Sicily &amp; Sardinia</td>\n",
       "      <td>Etna</td>\n",
       "      <td>NaN</td>\n",
       "      <td>Kerin O’Keefe</td>\n",
       "      <td>@kerinokeefe</td>\n",
       "      <td>Nicosia 2013 Vulkà Bianco  (Etna)</td>\n",
       "      <td>White Blend</td>\n",
       "      <td>Nicosia</td>\n",
       "    </tr>\n",
       "    <tr>\n",
       "      <th>1</th>\n",
       "      <td>1</td>\n",
       "      <td>Portugal</td>\n",
       "      <td>This is ripe and fruity, a wine that is smooth...</td>\n",
       "      <td>Avidagos</td>\n",
       "      <td>87</td>\n",
       "      <td>15.0</td>\n",
       "      <td>Douro</td>\n",
       "      <td>NaN</td>\n",
       "      <td>NaN</td>\n",
       "      <td>Roger Voss</td>\n",
       "      <td>@vossroger</td>\n",
       "      <td>Quinta dos Avidagos 2011 Avidagos Red (Douro)</td>\n",
       "      <td>Portuguese Red</td>\n",
       "      <td>Quinta dos Avidagos</td>\n",
       "    </tr>\n",
       "    <tr>\n",
       "      <th>2</th>\n",
       "      <td>2</td>\n",
       "      <td>US</td>\n",
       "      <td>Tart and snappy, the flavors of lime flesh and...</td>\n",
       "      <td>NaN</td>\n",
       "      <td>87</td>\n",
       "      <td>14.0</td>\n",
       "      <td>Oregon</td>\n",
       "      <td>Willamette Valley</td>\n",
       "      <td>Willamette Valley</td>\n",
       "      <td>Paul Gregutt</td>\n",
       "      <td>@paulgwine</td>\n",
       "      <td>Rainstorm 2013 Pinot Gris (Willamette Valley)</td>\n",
       "      <td>Pinot Gris</td>\n",
       "      <td>Rainstorm</td>\n",
       "    </tr>\n",
       "  </tbody>\n",
       "</table>\n",
       "</div>"
      ],
      "text/plain": [
       "   Unnamed: 0   country                                        description  \\\n",
       "0           0     Italy  Aromas include tropical fruit, broom, brimston...   \n",
       "1           1  Portugal  This is ripe and fruity, a wine that is smooth...   \n",
       "2           2        US  Tart and snappy, the flavors of lime flesh and...   \n",
       "\n",
       "    designation  points  price           province           region_1  \\\n",
       "0  Vulkà Bianco      87    NaN  Sicily & Sardinia               Etna   \n",
       "1      Avidagos      87   15.0              Douro                NaN   \n",
       "2           NaN      87   14.0             Oregon  Willamette Valley   \n",
       "\n",
       "            region_2    taster_name taster_twitter_handle  \\\n",
       "0                NaN  Kerin O’Keefe          @kerinokeefe   \n",
       "1                NaN     Roger Voss            @vossroger   \n",
       "2  Willamette Valley   Paul Gregutt           @paulgwine    \n",
       "\n",
       "                                           title         variety  \\\n",
       "0              Nicosia 2013 Vulkà Bianco  (Etna)     White Blend   \n",
       "1  Quinta dos Avidagos 2011 Avidagos Red (Douro)  Portuguese Red   \n",
       "2  Rainstorm 2013 Pinot Gris (Willamette Valley)      Pinot Gris   \n",
       "\n",
       "                winery  \n",
       "0              Nicosia  \n",
       "1  Quinta dos Avidagos  \n",
       "2            Rainstorm  "
      ]
     },
     "execution_count": 8,
     "metadata": {},
     "output_type": "execute_result"
    }
   ],
   "source": [
    "df.head(3)"
   ]
  },
  {
   "cell_type": "code",
   "execution_count": 9,
   "metadata": {},
   "outputs": [
    {
     "data": {
      "text/plain": [
       "(40430, 20234)"
      ]
     },
     "execution_count": 9,
     "metadata": {},
     "output_type": "execute_result"
    }
   ],
   "source": [
    "#Import TfIdfVectorizer from scikit-learn\n",
    "from sklearn.feature_extraction.text import TfidfVectorizer\n",
    "\n",
    "#Define a TF-IDF Vectorizer Object. Remove all english stop words such as 'the', 'a'\n",
    "tfidf = TfidfVectorizer(stop_words='english')\n",
    "\n",
    "#Replace NaN with an empty string\n",
    "df['description'] = df['description'].fillna('')\n",
    "\n",
    "#Construct the required TF-IDF matrix by fitting and transforming the data\n",
    "tfidf_matrix = tfidf.fit_transform(df['description'])\n",
    "\n",
    "#Output the shape of tfidf_matrix\n",
    "tfidf_matrix.shape"
   ]
  },
  {
   "cell_type": "markdown",
   "metadata": {},
   "source": [
    "Use cosine similarity "
   ]
  },
  {
   "cell_type": "code",
   "execution_count": 10,
   "metadata": {},
   "outputs": [],
   "source": [
    "# Import cosine similarity\n",
    "from sklearn.metrics.pairwise import cosine_similarity\n",
    "\n",
    "# Compute the cosine similarity matrix\n",
    "cosine_sim = cosine_similarity(tfidf_matrix, tfidf_matrix)"
   ]
  },
  {
   "cell_type": "code",
   "execution_count": 11,
   "metadata": {},
   "outputs": [],
   "source": [
    "#Construct a reverse map of indices and movie titles\n",
    "indices = pd.Series(df.index, index=df['title']).drop_duplicates()"
   ]
  },
  {
   "cell_type": "code",
   "execution_count": 12,
   "metadata": {},
   "outputs": [],
   "source": [
    "# Function that takes in movie title as input and outputs most similar movies\n",
    "def get_recommendations(title, cosine_sim=cosine_sim):\n",
    "    # Get the index of the movie that matches the title\n",
    "    idx = indices[title]\n",
    "\n",
    "    # Get the pairwsie similarity scores of all movies with that movie\n",
    "    sim_scores = list(enumerate(cosine_sim[idx]))\n",
    "\n",
    "    # Sort the movies based on the similarity scores\n",
    "    sim_scores = sorted(sim_scores, key=lambda x: x[1], reverse=True)\n",
    "\n",
    "    # Get the scores of the 10 most similar movies\n",
    "    sim_scores = sim_scores[1:11]\n",
    "\n",
    "    # Get the movie indices\n",
    "    movie_indices = [i[0] for i in sim_scores]\n",
    "\n",
    "    # Return the top 10 most similar movies\n",
    "    return df['title'].iloc[movie_indices]"
   ]
  },
  {
   "cell_type": "code",
   "execution_count": 13,
   "metadata": {},
   "outputs": [
    {
     "data": {
      "text/plain": [
       "2000     Feudi del Pisciotto 2013 Baglio del Sole Inzol...\n",
       "9976     Contrada Santo Spirito di Passopisciaro 2012 A...\n",
       "36459    La Staffa 2014  Verdicchio dei Castelli di Jes...\n",
       "9969         Terrazze dell'Etna 2009 Cirneco Rosso  (Etna)\n",
       "28898                    Vignamaggio 2013 Merlot (Toscana)\n",
       "16249    Marilena Barbera 2013 Coste al Vento Grillo (S...\n",
       "29722    Poggiobello 2014 Friulano (Friuli Colli Orient...\n",
       "908                      Cascina Bruciata 2013  Barbaresco\n",
       "5991     Barone Sergio 2015 Alègre Grillo (Terre Sicili...\n",
       "29250    Mastroberardino 2008 Vintage  (Fiano di Avellino)\n",
       "Name: title, dtype: object"
      ]
     },
     "execution_count": 13,
     "metadata": {},
     "output_type": "execute_result"
    }
   ],
   "source": [
    "get_recommendations('Nicosia 2013 Vulkà Bianco  (Etna)')"
   ]
  },
  {
   "cell_type": "code",
   "execution_count": 14,
   "metadata": {},
   "outputs": [],
   "source": [
    "def get_recommendations(title, cosine_sim=cosine_sim):\n",
    "    # Get the index of the wine that matches the title\n",
    "    idx = indices[title]\n",
    "\n",
    "    # Get the pairwise similarity scores of all wines with that wine\n",
    "    sim_scores = list(enumerate(cosine_sim[idx]))\n",
    "\n",
    "    # Sort the wines based on the similarity scores\n",
    "    sim_scores = sorted(sim_scores, key=lambda x: x[1], reverse=True)\n",
    "\n",
    "    # Get the scores of the 10 most similar wines\n",
    "    sim_scores = sim_scores[1:11]\n",
    "\n",
    "    # Get the wine indices\n",
    "    wine_indices = [i[0] for i in sim_scores]\n",
    "\n",
    "    # Get the titles and points of the top 10 most similar wines\n",
    "    recommended_wines = df.iloc[wine_indices][['title','points']]\n",
    "\n",
    "    return recommended_wines\n"
   ]
  },
  {
   "cell_type": "code",
   "execution_count": 15,
   "metadata": {
    "scrolled": true
   },
   "outputs": [
    {
     "name": "stdout",
     "output_type": "stream",
     "text": [
      "                                                   title  points\n",
      "16249  Marilena Barbera 2013 Coste al Vento Grillo (S...      86\n",
      "5991   Barone Sergio 2015 Alègre Grillo (Terre Sicili...      87\n",
      "9271     Trerose 2014 Salterio  (Rosso di Montepulciano)      86\n",
      "9969       Terrazze dell'Etna 2009 Cirneco Rosso  (Etna)      87\n",
      "23715              Ada Nada 2012 Valeirano  (Barbaresco)      88\n",
      "18353        Casale Daviddi 2012  Rosso di Montepulciano      87\n",
      "15915  Barone Sergio 2016 Alègre Grillo (Terre Sicili...      88\n",
      "0                      Nicosia 2013 Vulkà Bianco  (Etna)      87\n",
      "34212              Montresor 2014 Gran Guardia  (Lugana)      86\n",
      "20304                    Gino Fasoli NV Brut  (Prosecco)      86\n"
     ]
    }
   ],
   "source": [
    "title = \"Feudi del Pisciotto 2013 Baglio del Sole Inzolia (Sicilia)\" \n",
    "recommendations = get_recommendations(title)\n",
    "print(recommendations)\n"
   ]
  },
  {
   "cell_type": "code",
   "execution_count": null,
   "metadata": {},
   "outputs": [],
   "source": []
  },
  {
   "cell_type": "code",
   "execution_count": 13,
   "metadata": {},
   "outputs": [
    {
     "name": "stdout",
     "output_type": "stream",
     "text": [
      "1. Krug 2002 Brut  (Champagne)\n",
      "2. Krug 2002 Clos du Mesnil Brut Blanc de Blancs Chardonnay (Champagne)\n",
      "3. Blandy's 1969 Bual (Madeira)\n",
      "4. Louis Jadot 2014  Bâtard-Montrachet\n",
      "5. Château Margaux 2009  Margaux\n",
      "6. Château Palmer 2009  Margaux\n",
      "7. Château Haut-Brion 2007  Pessac-Léognan\n",
      "8. Salon 2004 Le Mesnil Blanc de Blancs Brut Chardonnay (Champagne)\n",
      "9. Château Pontet-Canet 2012 Barrel Sample  (Pauillac)\n",
      "10. Château Mouton Rothschild 2012 Barrel Sample  (Pauillac)\n"
     ]
    }
   ],
   "source": [
    "# Filter the DataFrame for reviews by Roger Voss\n",
    "score_by_taster = df[df['taster_name'] == 'Roger Voss']\n",
    "\n",
    "# Sort the reviews by descending points\n",
    "sorted_score = score_by_taster.sort_values(by='points', ascending=False)\n",
    "\n",
    "# Get the titles of the top 10 reviews\n",
    "top_10_titles = sorted_score.head(10)['title']\n",
    "\n",
    "# Print the titles\n",
    "for i, title in enumerate(top_10_titles):\n",
    "    print(f\"{i+1}. {title}\")\n"
   ]
  },
  {
   "cell_type": "code",
   "execution_count": 14,
   "metadata": {},
   "outputs": [
    {
     "data": {
      "text/html": [
       "<div>\n",
       "<style scoped>\n",
       "    .dataframe tbody tr th:only-of-type {\n",
       "        vertical-align: middle;\n",
       "    }\n",
       "\n",
       "    .dataframe tbody tr th {\n",
       "        vertical-align: top;\n",
       "    }\n",
       "\n",
       "    .dataframe thead th {\n",
       "        text-align: right;\n",
       "    }\n",
       "</style>\n",
       "<table border=\"1\" class=\"dataframe\">\n",
       "  <thead>\n",
       "    <tr style=\"text-align: right;\">\n",
       "      <th></th>\n",
       "      <th>Unnamed: 0</th>\n",
       "      <th>country</th>\n",
       "      <th>description</th>\n",
       "      <th>designation</th>\n",
       "      <th>points</th>\n",
       "      <th>price</th>\n",
       "      <th>province</th>\n",
       "      <th>region_1</th>\n",
       "      <th>region_2</th>\n",
       "      <th>taster_name</th>\n",
       "      <th>taster_twitter_handle</th>\n",
       "      <th>title</th>\n",
       "      <th>variety</th>\n",
       "      <th>winery</th>\n",
       "    </tr>\n",
       "  </thead>\n",
       "  <tbody>\n",
       "    <tr>\n",
       "      <th>36528</th>\n",
       "      <td>36528</td>\n",
       "      <td>France</td>\n",
       "      <td>This is a fabulous wine from the greatest Cham...</td>\n",
       "      <td>Brut</td>\n",
       "      <td>100</td>\n",
       "      <td>259.0</td>\n",
       "      <td>Champagne</td>\n",
       "      <td>Champagne</td>\n",
       "      <td>NaN</td>\n",
       "      <td>Roger Voss</td>\n",
       "      <td>@vossroger</td>\n",
       "      <td>Krug 2002 Brut  (Champagne)</td>\n",
       "      <td>Champagne Blend</td>\n",
       "      <td>Krug</td>\n",
       "    </tr>\n",
       "    <tr>\n",
       "      <th>36529</th>\n",
       "      <td>36529</td>\n",
       "      <td>France</td>\n",
       "      <td>Pure Chardonnay from the walled vineyard in th...</td>\n",
       "      <td>Clos du Mesnil Brut Blanc de Blancs</td>\n",
       "      <td>99</td>\n",
       "      <td>800.0</td>\n",
       "      <td>Champagne</td>\n",
       "      <td>Champagne</td>\n",
       "      <td>NaN</td>\n",
       "      <td>Roger Voss</td>\n",
       "      <td>@vossroger</td>\n",
       "      <td>Krug 2002 Clos du Mesnil Brut Blanc de Blancs ...</td>\n",
       "      <td>Chardonnay</td>\n",
       "      <td>Krug</td>\n",
       "    </tr>\n",
       "    <tr>\n",
       "      <th>36196</th>\n",
       "      <td>36196</td>\n",
       "      <td>Portugal</td>\n",
       "      <td>A superb wine that brings together all the gre...</td>\n",
       "      <td>NaN</td>\n",
       "      <td>98</td>\n",
       "      <td>230.0</td>\n",
       "      <td>Madeira</td>\n",
       "      <td>NaN</td>\n",
       "      <td>NaN</td>\n",
       "      <td>Roger Voss</td>\n",
       "      <td>@vossroger</td>\n",
       "      <td>Blandy's 1969 Bual (Madeira)</td>\n",
       "      <td>Bual</td>\n",
       "      <td>Blandy's</td>\n",
       "    </tr>\n",
       "    <tr>\n",
       "      <th>27591</th>\n",
       "      <td>27591</td>\n",
       "      <td>France</td>\n",
       "      <td>This is a major wine from a great white wine v...</td>\n",
       "      <td>NaN</td>\n",
       "      <td>98</td>\n",
       "      <td>367.0</td>\n",
       "      <td>Burgundy</td>\n",
       "      <td>Bâtard-Montrachet</td>\n",
       "      <td>NaN</td>\n",
       "      <td>Roger Voss</td>\n",
       "      <td>@vossroger</td>\n",
       "      <td>Louis Jadot 2014  Bâtard-Montrachet</td>\n",
       "      <td>Chardonnay</td>\n",
       "      <td>Louis Jadot</td>\n",
       "    </tr>\n",
       "    <tr>\n",
       "      <th>1558</th>\n",
       "      <td>1558</td>\n",
       "      <td>France</td>\n",
       "      <td>A massive wine for Margaux, packed with tannin...</td>\n",
       "      <td>NaN</td>\n",
       "      <td>98</td>\n",
       "      <td>1900.0</td>\n",
       "      <td>Bordeaux</td>\n",
       "      <td>Margaux</td>\n",
       "      <td>NaN</td>\n",
       "      <td>Roger Voss</td>\n",
       "      <td>@vossroger</td>\n",
       "      <td>Château Margaux 2009  Margaux</td>\n",
       "      <td>Bordeaux-style Red Blend</td>\n",
       "      <td>Château Margaux</td>\n",
       "    </tr>\n",
       "    <tr>\n",
       "      <th>1559</th>\n",
       "      <td>1559</td>\n",
       "      <td>France</td>\n",
       "      <td>A beautiful wine, with the firmest tannins sur...</td>\n",
       "      <td>NaN</td>\n",
       "      <td>98</td>\n",
       "      <td>380.0</td>\n",
       "      <td>Bordeaux</td>\n",
       "      <td>Margaux</td>\n",
       "      <td>NaN</td>\n",
       "      <td>Roger Voss</td>\n",
       "      <td>@vossroger</td>\n",
       "      <td>Château Palmer 2009  Margaux</td>\n",
       "      <td>Bordeaux-style Red Blend</td>\n",
       "      <td>Château Palmer</td>\n",
       "    </tr>\n",
       "    <tr>\n",
       "      <th>39288</th>\n",
       "      <td>39288</td>\n",
       "      <td>France</td>\n",
       "      <td>The palate opens slowly, offering an initial c...</td>\n",
       "      <td>NaN</td>\n",
       "      <td>98</td>\n",
       "      <td>800.0</td>\n",
       "      <td>Bordeaux</td>\n",
       "      <td>Pessac-Léognan</td>\n",
       "      <td>NaN</td>\n",
       "      <td>Roger Voss</td>\n",
       "      <td>@vossroger</td>\n",
       "      <td>Château Haut-Brion 2007  Pessac-Léognan</td>\n",
       "      <td>Bordeaux-style White Blend</td>\n",
       "      <td>Château Haut-Brion</td>\n",
       "    </tr>\n",
       "    <tr>\n",
       "      <th>36530</th>\n",
       "      <td>36530</td>\n",
       "      <td>France</td>\n",
       "      <td>Salon's releases are rare and signify a great ...</td>\n",
       "      <td>Le Mesnil Blanc de Blancs Brut</td>\n",
       "      <td>98</td>\n",
       "      <td>520.0</td>\n",
       "      <td>Champagne</td>\n",
       "      <td>Champagne</td>\n",
       "      <td>NaN</td>\n",
       "      <td>Roger Voss</td>\n",
       "      <td>@vossroger</td>\n",
       "      <td>Salon 2004 Le Mesnil Blanc de Blancs Brut Char...</td>\n",
       "      <td>Chardonnay</td>\n",
       "      <td>Salon</td>\n",
       "    </tr>\n",
       "    <tr>\n",
       "      <th>16107</th>\n",
       "      <td>16107</td>\n",
       "      <td>France</td>\n",
       "      <td>96–98. Barrel sample. This is a structured, ri...</td>\n",
       "      <td>Barrel Sample</td>\n",
       "      <td>97</td>\n",
       "      <td>NaN</td>\n",
       "      <td>Bordeaux</td>\n",
       "      <td>Pauillac</td>\n",
       "      <td>NaN</td>\n",
       "      <td>Roger Voss</td>\n",
       "      <td>@vossroger</td>\n",
       "      <td>Château Pontet-Canet 2012 Barrel Sample  (Paui...</td>\n",
       "      <td>Bordeaux-style Red Blend</td>\n",
       "      <td>Château Pontet-Canet</td>\n",
       "    </tr>\n",
       "    <tr>\n",
       "      <th>16106</th>\n",
       "      <td>16106</td>\n",
       "      <td>France</td>\n",
       "      <td>96–98. Barrel sample. This powerful, impressiv...</td>\n",
       "      <td>Barrel Sample</td>\n",
       "      <td>97</td>\n",
       "      <td>NaN</td>\n",
       "      <td>Bordeaux</td>\n",
       "      <td>Pauillac</td>\n",
       "      <td>NaN</td>\n",
       "      <td>Roger Voss</td>\n",
       "      <td>@vossroger</td>\n",
       "      <td>Château Mouton Rothschild 2012 Barrel Sample  ...</td>\n",
       "      <td>Bordeaux-style Red Blend</td>\n",
       "      <td>Château Mouton Rothschild</td>\n",
       "    </tr>\n",
       "  </tbody>\n",
       "</table>\n",
       "</div>"
      ],
      "text/plain": [
       "       Unnamed: 0   country  \\\n",
       "36528       36528    France   \n",
       "36529       36529    France   \n",
       "36196       36196  Portugal   \n",
       "27591       27591    France   \n",
       "1558         1558    France   \n",
       "1559         1559    France   \n",
       "39288       39288    France   \n",
       "36530       36530    France   \n",
       "16107       16107    France   \n",
       "16106       16106    France   \n",
       "\n",
       "                                             description  \\\n",
       "36528  This is a fabulous wine from the greatest Cham...   \n",
       "36529  Pure Chardonnay from the walled vineyard in th...   \n",
       "36196  A superb wine that brings together all the gre...   \n",
       "27591  This is a major wine from a great white wine v...   \n",
       "1558   A massive wine for Margaux, packed with tannin...   \n",
       "1559   A beautiful wine, with the firmest tannins sur...   \n",
       "39288  The palate opens slowly, offering an initial c...   \n",
       "36530  Salon's releases are rare and signify a great ...   \n",
       "16107  96–98. Barrel sample. This is a structured, ri...   \n",
       "16106  96–98. Barrel sample. This powerful, impressiv...   \n",
       "\n",
       "                               designation  points   price   province  \\\n",
       "36528                                 Brut     100   259.0  Champagne   \n",
       "36529  Clos du Mesnil Brut Blanc de Blancs      99   800.0  Champagne   \n",
       "36196                                  NaN      98   230.0    Madeira   \n",
       "27591                                  NaN      98   367.0   Burgundy   \n",
       "1558                                   NaN      98  1900.0   Bordeaux   \n",
       "1559                                   NaN      98   380.0   Bordeaux   \n",
       "39288                                  NaN      98   800.0   Bordeaux   \n",
       "36530       Le Mesnil Blanc de Blancs Brut      98   520.0  Champagne   \n",
       "16107                        Barrel Sample      97     NaN   Bordeaux   \n",
       "16106                        Barrel Sample      97     NaN   Bordeaux   \n",
       "\n",
       "                region_1 region_2 taster_name taster_twitter_handle  \\\n",
       "36528          Champagne      NaN  Roger Voss            @vossroger   \n",
       "36529          Champagne      NaN  Roger Voss            @vossroger   \n",
       "36196                NaN      NaN  Roger Voss            @vossroger   \n",
       "27591  Bâtard-Montrachet      NaN  Roger Voss            @vossroger   \n",
       "1558             Margaux      NaN  Roger Voss            @vossroger   \n",
       "1559             Margaux      NaN  Roger Voss            @vossroger   \n",
       "39288     Pessac-Léognan      NaN  Roger Voss            @vossroger   \n",
       "36530          Champagne      NaN  Roger Voss            @vossroger   \n",
       "16107           Pauillac      NaN  Roger Voss            @vossroger   \n",
       "16106           Pauillac      NaN  Roger Voss            @vossroger   \n",
       "\n",
       "                                                   title  \\\n",
       "36528                        Krug 2002 Brut  (Champagne)   \n",
       "36529  Krug 2002 Clos du Mesnil Brut Blanc de Blancs ...   \n",
       "36196                       Blandy's 1969 Bual (Madeira)   \n",
       "27591                Louis Jadot 2014  Bâtard-Montrachet   \n",
       "1558                       Château Margaux 2009  Margaux   \n",
       "1559                        Château Palmer 2009  Margaux   \n",
       "39288            Château Haut-Brion 2007  Pessac-Léognan   \n",
       "36530  Salon 2004 Le Mesnil Blanc de Blancs Brut Char...   \n",
       "16107  Château Pontet-Canet 2012 Barrel Sample  (Paui...   \n",
       "16106  Château Mouton Rothschild 2012 Barrel Sample  ...   \n",
       "\n",
       "                          variety                     winery  \n",
       "36528             Champagne Blend                       Krug  \n",
       "36529                  Chardonnay                       Krug  \n",
       "36196                        Bual                   Blandy's  \n",
       "27591                  Chardonnay                Louis Jadot  \n",
       "1558     Bordeaux-style Red Blend            Château Margaux  \n",
       "1559     Bordeaux-style Red Blend             Château Palmer  \n",
       "39288  Bordeaux-style White Blend         Château Haut-Brion  \n",
       "36530                  Chardonnay                      Salon  \n",
       "16107    Bordeaux-style Red Blend       Château Pontet-Canet  \n",
       "16106    Bordeaux-style Red Blend  Château Mouton Rothschild  "
      ]
     },
     "execution_count": 14,
     "metadata": {},
     "output_type": "execute_result"
    }
   ],
   "source": [
    "sorted_score.head(10)"
   ]
  },
  {
   "cell_type": "code",
   "execution_count": 15,
   "metadata": {},
   "outputs": [
    {
     "name": "stdout",
     "output_type": "stream",
     "text": [
      "1. Tenuta San Guido 2012 Sassicaia  (Bolgheri Sassicaia)\n",
      "2. Tenuta San Guido 2013  Bolgheri Sassicaia\n",
      "3. Brezza 2013 Cannubi  (Barolo)\n",
      "4. Comm. G. B. Burlotto 2013 Monvigliero  (Barolo)\n",
      "5. Massolino 2011 Vigna Rionda Riserva  (Barolo)\n",
      "6. Giuseppe Rinaldi 2013 Brunate  (Barolo)\n",
      "7. Marchesi Antinori 2012 Solaia Red (Toscana)\n",
      "8. Germano Ettore 2013 Prapò  (Barolo)\n",
      "9. Cavallotto 2010 Vignolo Riserva  (Barolo)\n",
      "10. Elvio Cogno 2013 Ravera  (Barolo)\n"
     ]
    }
   ],
   "source": [
    "# Filter the DataFrame for reviews by Roger Voss\n",
    "score_by_taster = df[df['taster_name'] == 'Kerin O’Keefe']\n",
    "\n",
    "# Sort the reviews by descending points\n",
    "sorted_score = score_by_taster.sort_values(by='points', ascending=False)\n",
    "\n",
    "# Get the titles of the top 10 reviews\n",
    "top_10_titles = sorted_score.head(10)['title']\n",
    "\n",
    "# Print the titles\n",
    "for i, title in enumerate(top_10_titles):\n",
    "    print(f\"{i+1}. {title}\")\n"
   ]
  },
  {
   "cell_type": "code",
   "execution_count": 16,
   "metadata": {},
   "outputs": [
    {
     "data": {
      "text/html": [
       "<div>\n",
       "<style scoped>\n",
       "    .dataframe tbody tr th:only-of-type {\n",
       "        vertical-align: middle;\n",
       "    }\n",
       "\n",
       "    .dataframe tbody tr th {\n",
       "        vertical-align: top;\n",
       "    }\n",
       "\n",
       "    .dataframe thead th {\n",
       "        text-align: right;\n",
       "    }\n",
       "</style>\n",
       "<table border=\"1\" class=\"dataframe\">\n",
       "  <thead>\n",
       "    <tr style=\"text-align: right;\">\n",
       "      <th></th>\n",
       "      <th>Unnamed: 0</th>\n",
       "      <th>country</th>\n",
       "      <th>description</th>\n",
       "      <th>designation</th>\n",
       "      <th>points</th>\n",
       "      <th>price</th>\n",
       "      <th>province</th>\n",
       "      <th>region_1</th>\n",
       "      <th>region_2</th>\n",
       "      <th>taster_name</th>\n",
       "      <th>taster_twitter_handle</th>\n",
       "      <th>title</th>\n",
       "      <th>variety</th>\n",
       "      <th>winery</th>\n",
       "    </tr>\n",
       "  </thead>\n",
       "  <tbody>\n",
       "    <tr>\n",
       "      <th>35517</th>\n",
       "      <td>35517</td>\n",
       "      <td>Italy</td>\n",
       "      <td>One of Italy's most iconic bottlings, the 2012...</td>\n",
       "      <td>Sassicaia</td>\n",
       "      <td>99</td>\n",
       "      <td>235.0</td>\n",
       "      <td>Tuscany</td>\n",
       "      <td>Bolgheri Sassicaia</td>\n",
       "      <td>NaN</td>\n",
       "      <td>Kerin O’Keefe</td>\n",
       "      <td>@kerinokeefe</td>\n",
       "      <td>Tenuta San Guido 2012 Sassicaia  (Bolgheri Sas...</td>\n",
       "      <td>Red Blend</td>\n",
       "      <td>Tenuta San Guido</td>\n",
       "    </tr>\n",
       "    <tr>\n",
       "      <th>26889</th>\n",
       "      <td>26889</td>\n",
       "      <td>Italy</td>\n",
       "      <td>Red berry, cedar and light spice aromas lead t...</td>\n",
       "      <td>NaN</td>\n",
       "      <td>98</td>\n",
       "      <td>235.0</td>\n",
       "      <td>Tuscany</td>\n",
       "      <td>Bolgheri Sassicaia</td>\n",
       "      <td>NaN</td>\n",
       "      <td>Kerin O’Keefe</td>\n",
       "      <td>@kerinokeefe</td>\n",
       "      <td>Tenuta San Guido 2013  Bolgheri Sassicaia</td>\n",
       "      <td>Red Blend</td>\n",
       "      <td>Tenuta San Guido</td>\n",
       "    </tr>\n",
       "    <tr>\n",
       "      <th>16770</th>\n",
       "      <td>16770</td>\n",
       "      <td>Italy</td>\n",
       "      <td>One of the best expressions from the classic C...</td>\n",
       "      <td>Cannubi</td>\n",
       "      <td>98</td>\n",
       "      <td>60.0</td>\n",
       "      <td>Piedmont</td>\n",
       "      <td>Barolo</td>\n",
       "      <td>NaN</td>\n",
       "      <td>Kerin O’Keefe</td>\n",
       "      <td>@kerinokeefe</td>\n",
       "      <td>Brezza 2013 Cannubi  (Barolo)</td>\n",
       "      <td>Nebbiolo</td>\n",
       "      <td>Brezza</td>\n",
       "    </tr>\n",
       "    <tr>\n",
       "      <th>16771</th>\n",
       "      <td>16771</td>\n",
       "      <td>Italy</td>\n",
       "      <td>Always the firm's showstopper and one of the b...</td>\n",
       "      <td>Monvigliero</td>\n",
       "      <td>98</td>\n",
       "      <td>70.0</td>\n",
       "      <td>Piedmont</td>\n",
       "      <td>Barolo</td>\n",
       "      <td>NaN</td>\n",
       "      <td>Kerin O’Keefe</td>\n",
       "      <td>@kerinokeefe</td>\n",
       "      <td>Comm. G. B. Burlotto 2013 Monvigliero  (Barolo)</td>\n",
       "      <td>Nebbiolo</td>\n",
       "      <td>Comm. G. B. Burlotto</td>\n",
       "    </tr>\n",
       "    <tr>\n",
       "      <th>16772</th>\n",
       "      <td>16772</td>\n",
       "      <td>Italy</td>\n",
       "      <td>From one of the most celebrated vineyards in t...</td>\n",
       "      <td>Vigna Rionda Riserva</td>\n",
       "      <td>98</td>\n",
       "      <td>151.0</td>\n",
       "      <td>Piedmont</td>\n",
       "      <td>Barolo</td>\n",
       "      <td>NaN</td>\n",
       "      <td>Kerin O’Keefe</td>\n",
       "      <td>@kerinokeefe</td>\n",
       "      <td>Massolino 2011 Vigna Rionda Riserva  (Barolo)</td>\n",
       "      <td>Nebbiolo</td>\n",
       "      <td>Massolino</td>\n",
       "    </tr>\n",
       "    <tr>\n",
       "      <th>16773</th>\n",
       "      <td>16773</td>\n",
       "      <td>Italy</td>\n",
       "      <td>Classic Nebbiolo aromas of new leather, mentho...</td>\n",
       "      <td>Brunate</td>\n",
       "      <td>98</td>\n",
       "      <td>300.0</td>\n",
       "      <td>Piedmont</td>\n",
       "      <td>Barolo</td>\n",
       "      <td>NaN</td>\n",
       "      <td>Kerin O’Keefe</td>\n",
       "      <td>@kerinokeefe</td>\n",
       "      <td>Giuseppe Rinaldi 2013 Brunate  (Barolo)</td>\n",
       "      <td>Nebbiolo</td>\n",
       "      <td>Giuseppe Rinaldi</td>\n",
       "    </tr>\n",
       "    <tr>\n",
       "      <th>35519</th>\n",
       "      <td>35519</td>\n",
       "      <td>Italy</td>\n",
       "      <td>This stunning expression of Solaia opens with ...</td>\n",
       "      <td>Solaia</td>\n",
       "      <td>97</td>\n",
       "      <td>325.0</td>\n",
       "      <td>Tuscany</td>\n",
       "      <td>Toscana</td>\n",
       "      <td>NaN</td>\n",
       "      <td>Kerin O’Keefe</td>\n",
       "      <td>@kerinokeefe</td>\n",
       "      <td>Marchesi Antinori 2012 Solaia Red (Toscana)</td>\n",
       "      <td>Red Blend</td>\n",
       "      <td>Marchesi Antinori</td>\n",
       "    </tr>\n",
       "    <tr>\n",
       "      <th>16523</th>\n",
       "      <td>16523</td>\n",
       "      <td>Italy</td>\n",
       "      <td>Polished and well structured, this vibrant, sa...</td>\n",
       "      <td>Prapò</td>\n",
       "      <td>97</td>\n",
       "      <td>75.0</td>\n",
       "      <td>Piedmont</td>\n",
       "      <td>Barolo</td>\n",
       "      <td>NaN</td>\n",
       "      <td>Kerin O’Keefe</td>\n",
       "      <td>@kerinokeefe</td>\n",
       "      <td>Germano Ettore 2013 Prapò  (Barolo)</td>\n",
       "      <td>Nebbiolo</td>\n",
       "      <td>Germano Ettore</td>\n",
       "    </tr>\n",
       "    <tr>\n",
       "      <th>350</th>\n",
       "      <td>350</td>\n",
       "      <td>Italy</td>\n",
       "      <td>After a few minutes in the glass, this stunnin...</td>\n",
       "      <td>Vignolo Riserva</td>\n",
       "      <td>97</td>\n",
       "      <td>150.0</td>\n",
       "      <td>Piedmont</td>\n",
       "      <td>Barolo</td>\n",
       "      <td>NaN</td>\n",
       "      <td>Kerin O’Keefe</td>\n",
       "      <td>@kerinokeefe</td>\n",
       "      <td>Cavallotto 2010 Vignolo Riserva  (Barolo)</td>\n",
       "      <td>Nebbiolo</td>\n",
       "      <td>Cavallotto</td>\n",
       "    </tr>\n",
       "    <tr>\n",
       "      <th>16774</th>\n",
       "      <td>16774</td>\n",
       "      <td>Italy</td>\n",
       "      <td>Wild berry, iris, rose and a potpourri of culi...</td>\n",
       "      <td>Ravera</td>\n",
       "      <td>97</td>\n",
       "      <td>82.0</td>\n",
       "      <td>Piedmont</td>\n",
       "      <td>Barolo</td>\n",
       "      <td>NaN</td>\n",
       "      <td>Kerin O’Keefe</td>\n",
       "      <td>@kerinokeefe</td>\n",
       "      <td>Elvio Cogno 2013 Ravera  (Barolo)</td>\n",
       "      <td>Nebbiolo</td>\n",
       "      <td>Elvio Cogno</td>\n",
       "    </tr>\n",
       "  </tbody>\n",
       "</table>\n",
       "</div>"
      ],
      "text/plain": [
       "       Unnamed: 0 country                                        description  \\\n",
       "35517       35517   Italy  One of Italy's most iconic bottlings, the 2012...   \n",
       "26889       26889   Italy  Red berry, cedar and light spice aromas lead t...   \n",
       "16770       16770   Italy  One of the best expressions from the classic C...   \n",
       "16771       16771   Italy  Always the firm's showstopper and one of the b...   \n",
       "16772       16772   Italy  From one of the most celebrated vineyards in t...   \n",
       "16773       16773   Italy  Classic Nebbiolo aromas of new leather, mentho...   \n",
       "35519       35519   Italy  This stunning expression of Solaia opens with ...   \n",
       "16523       16523   Italy  Polished and well structured, this vibrant, sa...   \n",
       "350           350   Italy  After a few minutes in the glass, this stunnin...   \n",
       "16774       16774   Italy  Wild berry, iris, rose and a potpourri of culi...   \n",
       "\n",
       "                designation  points  price  province            region_1  \\\n",
       "35517             Sassicaia      99  235.0   Tuscany  Bolgheri Sassicaia   \n",
       "26889                   NaN      98  235.0   Tuscany  Bolgheri Sassicaia   \n",
       "16770               Cannubi      98   60.0  Piedmont              Barolo   \n",
       "16771           Monvigliero      98   70.0  Piedmont              Barolo   \n",
       "16772  Vigna Rionda Riserva      98  151.0  Piedmont              Barolo   \n",
       "16773               Brunate      98  300.0  Piedmont              Barolo   \n",
       "35519                Solaia      97  325.0   Tuscany             Toscana   \n",
       "16523                 Prapò      97   75.0  Piedmont              Barolo   \n",
       "350         Vignolo Riserva      97  150.0  Piedmont              Barolo   \n",
       "16774                Ravera      97   82.0  Piedmont              Barolo   \n",
       "\n",
       "      region_2    taster_name taster_twitter_handle  \\\n",
       "35517      NaN  Kerin O’Keefe          @kerinokeefe   \n",
       "26889      NaN  Kerin O’Keefe          @kerinokeefe   \n",
       "16770      NaN  Kerin O’Keefe          @kerinokeefe   \n",
       "16771      NaN  Kerin O’Keefe          @kerinokeefe   \n",
       "16772      NaN  Kerin O’Keefe          @kerinokeefe   \n",
       "16773      NaN  Kerin O’Keefe          @kerinokeefe   \n",
       "35519      NaN  Kerin O’Keefe          @kerinokeefe   \n",
       "16523      NaN  Kerin O’Keefe          @kerinokeefe   \n",
       "350        NaN  Kerin O’Keefe          @kerinokeefe   \n",
       "16774      NaN  Kerin O’Keefe          @kerinokeefe   \n",
       "\n",
       "                                                   title    variety  \\\n",
       "35517  Tenuta San Guido 2012 Sassicaia  (Bolgheri Sas...  Red Blend   \n",
       "26889          Tenuta San Guido 2013  Bolgheri Sassicaia  Red Blend   \n",
       "16770                      Brezza 2013 Cannubi  (Barolo)   Nebbiolo   \n",
       "16771    Comm. G. B. Burlotto 2013 Monvigliero  (Barolo)   Nebbiolo   \n",
       "16772      Massolino 2011 Vigna Rionda Riserva  (Barolo)   Nebbiolo   \n",
       "16773            Giuseppe Rinaldi 2013 Brunate  (Barolo)   Nebbiolo   \n",
       "35519        Marchesi Antinori 2012 Solaia Red (Toscana)  Red Blend   \n",
       "16523                Germano Ettore 2013 Prapò  (Barolo)   Nebbiolo   \n",
       "350            Cavallotto 2010 Vignolo Riserva  (Barolo)   Nebbiolo   \n",
       "16774                  Elvio Cogno 2013 Ravera  (Barolo)   Nebbiolo   \n",
       "\n",
       "                     winery  \n",
       "35517      Tenuta San Guido  \n",
       "26889      Tenuta San Guido  \n",
       "16770                Brezza  \n",
       "16771  Comm. G. B. Burlotto  \n",
       "16772             Massolino  \n",
       "16773      Giuseppe Rinaldi  \n",
       "35519     Marchesi Antinori  \n",
       "16523        Germano Ettore  \n",
       "350              Cavallotto  \n",
       "16774           Elvio Cogno  "
      ]
     },
     "execution_count": 16,
     "metadata": {},
     "output_type": "execute_result"
    }
   ],
   "source": [
    "sorted_score.head(10)"
   ]
  },
  {
   "cell_type": "code",
   "execution_count": null,
   "metadata": {},
   "outputs": [],
   "source": []
  },
  {
   "cell_type": "markdown",
   "metadata": {},
   "source": [
    "### Find top 10 cost-effective wines with points above 95 and prices below 100 with price tags"
   ]
  },
  {
   "cell_type": "code",
   "execution_count": 18,
   "metadata": {},
   "outputs": [
    {
     "name": "stdout",
     "output_type": "stream",
     "text": [
      "40310. Isole e Olena 2010  Chianti Classico - 96 points, $27.0\n",
      "9902. Domaines Schlumberger 2014 Saering Grand Cru Riesling (Alsace) - 96 points, $29.0\n",
      "16529. Trisaetum 2016 Ribbon Ridge Estate Dry Riesling (Ribbon Ridge) - 96 points, $32.0\n",
      "34506. Williams Selyem 2007 Late Harvest Muscat (Russian River Valley) - 96 points, $40.0\n",
      "15852. Stolo 2014 Estate Syrah (San Luis Obispo County) - 96 points, $40.0\n",
      "16525. Taylor Fladgate NV 325 Anniversary  (Port) - 97 points, $40.0\n",
      "9905. Kuentz-Bas 2015 Geisberg Grand Cru Riesling (Alsace) - 96 points, $42.0\n",
      "33846. Samsara 2008 Las Hermanas Vineyard Pinot Noir (Sta. Rita Hills) - 96 points, $44.0\n",
      "33845. Woodward Canyon 2009 Chardonnay (Washington) - 96 points, $44.0\n",
      "26893. Iron Horse 2012 Wedding Cuvée Estate Bottled Sparkling (Green Valley) - 96 points, $44.0\n"
     ]
    }
   ],
   "source": [
    "# Filter the DataFrame for wines with points above 95 and prices below 100\n",
    "cost_effective_wines = df[(df['points'] > 95) & (df['price'] < 100)]\n",
    "\n",
    "# Sort the wines by ascending price\n",
    "sorted_wines = cost_effective_wines.sort_values(by='price')\n",
    "\n",
    "# Get the top 10 cost-effective wines\n",
    "top_10_wines = sorted_wines.head(10)\n",
    "\n",
    "# Print the titles, points, and prices\n",
    "for i, row in top_10_wines.iterrows():\n",
    "    title = row['title']\n",
    "    points = row['points']\n",
    "    price = row['price']\n",
    "    print(f\"{i+1}. {title} - {points} points, ${price}\")\n"
   ]
  },
  {
   "cell_type": "markdown",
   "metadata": {},
   "source": [
    "### Find top 10 low-point and high-priced wines with points below 90 and prices above 200"
   ]
  },
  {
   "cell_type": "code",
   "execution_count": 19,
   "metadata": {},
   "outputs": [
    {
     "name": "stdout",
     "output_type": "stream",
     "text": [
      "27519. Vega Sicilia 2008 Unico  (Ribera del Duero) - 89 points, $500.0\n",
      "26152. Armand de Brignac NV Brut Rosé  (Champagne) - 89 points, $450.0\n",
      "26865. Armand de Brignac NV Brut Rosé  (Champagne) - 89 points, $450.0\n",
      "31711. Matarromera 2000 Prestigio Pago de las Solanas  (Ribera del Duero) - 88 points, $325.0\n",
      "26206. Capichera 2011 Albori di Lampata Red (Isola dei Nuraghi) - 88 points, $320.0\n",
      "34029. Villa Canestrari 2005 10 Anni Riserva  (Amarone della Valpolicella) - 87 points, $300.0\n",
      "6906. Nathaniel Rose 2012 Left Bank Abigail's Vineyard Domaine Barrien Cabernet Sauvignon (Lake Michigan Shore) - 87 points, $250.0\n",
      "20838. Domaine Sophie Cinier 2012  Saint-Véran - 89 points, $250.0\n",
      "38330. Domaine du Pegau 2015 Cuvée à Tempo White (Châteauneuf-du-Pape) - 87 points, $250.0\n",
      "30715. Buglioni 2007 Riserva  (Amarone della Valpolicella Classico) - 88 points, $249.0\n"
     ]
    }
   ],
   "source": [
    "# Filter the DataFrame for wines with points below 90 and prices above 500\n",
    "low_rated_high_priced_wines = df[(df['points'] < 90) & (df['price'] > 200)]\n",
    "\n",
    "# Sort the wines by descending price\n",
    "sorted_wines = low_rated_high_priced_wines.sort_values(by='price', ascending=False)\n",
    "\n",
    "# Get the top 10 low-rated and high-priced wines\n",
    "top_10_wines = sorted_wines.head(10)\n",
    "\n",
    "# Print the titles, points, and prices\n",
    "for i, row in top_10_wines.iterrows():\n",
    "    title = row['title']\n",
    "    points = row['points']\n",
    "    price = row['price']\n",
    "    print(f\"{i+1}. {title} - {points} points, ${price}\")\n"
   ]
  },
  {
   "cell_type": "markdown",
   "metadata": {},
   "source": [
    "### find out top 10 wine of every taster"
   ]
  },
  {
   "cell_type": "code",
   "execution_count": 20,
   "metadata": {},
   "outputs": [
    {
     "name": "stdout",
     "output_type": "stream",
     "text": [
      "Taster: Alexander Peartree\n",
      "4900. Lovingston 2012 Josie's Knoll Merlot (Monticello) - 91 points\n",
      "31279. Bel Lago 2013 Chardonnay (Leelanau Peninsula) - 91 points\n",
      "31598. King Family 2012 Meritage (Monticello) - 90 points\n",
      "7935. Canyon Wind 2012 Clone 4 Cabernet Sauvignon (Grand Valley) - 90 points\n",
      "31581. The Infinite Monkey Theorem 2013 Cabernet Franc (Grand Valley) - 90 points\n",
      "26819. CrossKeys 2013 Touriga (Virginia) - 90 points\n",
      "21794. Snowy Peaks 2011 Malbec (Grand Valley) - 89 points\n",
      "21920. Michael Shaps 2014 Viognier (Virginia) - 89 points\n",
      "23803. Gill's Pier 2012 Cabernet Franc-Merlot (Leelanau Peninsula) - 89 points\n",
      "36967. Fabbioli Cellars 2012 Tre Sorélle Red (Virginia) - 88 points\n",
      "\n",
      "Taster: Anna Lee C. Iijima\n",
      "16523. Robert Weil 2015 Kiedrich Gräfenberg Trockenbeerenauslese Riesling (Rheingau) - 98 points\n",
      "348. Robert Weil 2014 Kiedrich Gräfenberg Trockenbeerenauslese Riesling (Rheingau) - 97 points\n",
      "16526. Domdechant Werner 2015 Hochheimer Domdechaney Trockenbeerenauslese Grosse Lage Riesling (Rheingau) - 96 points\n",
      "31404. Maximin Grünhäuser 2015 Abtsberg Beerenauslese Grosse Lage Riesling (Mosel) - 96 points\n",
      "31406. Robert Weil 2015 Kiedrich Gräfenberg Beerenauslese Riesling (Rheingau) - 96 points\n",
      "355. Robert Weil 2014 Kiedrich Gräfenberg Beerenauslese Riesling (Rheingau) - 96 points\n",
      "27608. Wittmann 2015 Westhofen Morstein Trocken GG Riesling (Rheinhessen) - 95 points\n",
      "36213. Schloss Vollrads 2012 Eiswein Riesling (Rheingau) - 95 points\n",
      "15776. Joh. Jos. Prüm 2013 Bernkasteler Badstube Auslese Riesling (Mosel) - 95 points\n",
      "15775. Joh. Jos. Prüm 2013 Zeltinger Sonnenuhr Auslese Riesling (Mosel) - 95 points\n",
      "\n",
      "Taster: Anne Krebiehl MW\n",
      "36534. Kracher 2013 Trockenbeerenauslese Nummer 5 Zwischen den Seen Scheurebe (Burgenland) - 97 points\n",
      "9904. Julien Schaal 2016 Rangen de Thann Grand Cru Riesling (Alsace) - 96 points\n",
      "9900. Domaine Marcel Deiss 2012 Schoenenbourg Grand Cru White (Alsace) - 96 points\n",
      "9907. Domaine Zind-Humbrecht 2015 Clos Saint Urbain Rangen de Thann Grand Cru Pinot Gris (Alsace) - 96 points\n",
      "9906. Domaine Zind-Humbrecht 2014 Brand Grand Cru Riesling (Alsace) - 96 points\n",
      "9905. Kuentz-Bas 2015 Geisberg Grand Cru Riesling (Alsace) - 96 points\n",
      "9903. Domaine Schoffit 2015 Clos Saint-Théobald Rangen Grand Cru Vendanges Tardives Riesling (Alsace) - 96 points\n",
      "9902. Domaines Schlumberger 2014 Saering Grand Cru Riesling (Alsace) - 96 points\n",
      "9901. Domaine Schoffit 2015 Clos Saint-Théobald Rangen Grand Cru Vendanges Tardives Pinot Gris (Alsace) - 96 points\n",
      "15858. Domaine Zind-Humbrecht 2014 Clos Saint Urbain Rangen de Thann Grand Cru Riesling (Alsace) - 96 points\n",
      "\n",
      "Taster: Carrie Dykes\n",
      "3585. Blue Valley 2015 Sauvignon Blanc (Middleburg) - 89 points\n",
      "34437. Barboursville Vineyards 2014 Octagon Red (Virginia) - 89 points\n",
      "21220. Stinson 2013 Meritage Red (Monticello) - 89 points\n",
      "31778. Blue Valley 2015 Petit Verdot (Virginia) - 89 points\n",
      "34417. Early Mountain 2016 Rosé (Virginia) - 89 points\n",
      "25504. Barboursville Vineyards 2015 Reserve Viognier (Virginia) - 88 points\n",
      "25503. Barboursville Vineyards 2014 Reserve Cabernet Franc (Virginia) - 88 points\n",
      "25502. Barboursville Vineyards 2013 Passito White (Virginia) - 88 points\n",
      "36883. The Williamsburg Winery 2014 Four Barrel Cuvée Red (Virginia) - 87 points\n",
      "19864. The Williamsburg Winery 2014 Wessex Hundred Petit Verdot (Virginia) - 87 points\n",
      "\n",
      "Taster: Christina Pickard\n",
      "19832. Torbreck 2006 The Struie Shiraz (Barossa) - 93 points\n",
      "\n",
      "Taster: Fiona Adams\n",
      "32037. Creekside Cellars 2014 Colorado's Cabernet Franc (Grand Valley) - 91 points\n",
      "31771. Sutcliffe 2014 Cabernet Franc (Colorado) - 89 points\n",
      "29589. Kingman 2013 Cabernet Sauvignon (Grand Valley) - 88 points\n",
      "2381. Biltmore Estate NV Blanc de Noir Brut Sparkling (America) - 87 points\n",
      "2407. Gruet 2011 Sauvage Sparkling (America) - 87 points\n",
      "20603. Sutcliffe 2014 Merlot (Colorado) - 87 points\n",
      "30823. Gruet NV Demi Sec Sparkling (America) - 87 points\n",
      "30830. Creekside Cellars 2014 Cabernet Sauvignon (Colorado) - 87 points\n",
      "1628. Gruet NV Blanc de Blancs Chardonnay (America) - 85 points\n",
      "19671. The Infinite Monkey Theorem 2015 Malbec (Grand Valley) - 85 points\n",
      "\n",
      "Taster: Jeff Jenssen\n",
      "352. Oremus 2005 Eszencia  (Tokaji) - 96 points\n",
      "25823. Béres 2007 Aszú 5 Puttonyos  (Tokaji) - 93 points\n",
      "38435. Dobogó 2011 Szent Tamás Betsek Vineyards  (Tokaji) - 93 points\n",
      "38433. Disznókö 2012 Késöi Szüret Late Harvest  (Tokaji) - 93 points\n",
      "5762. Cramele Recas 2013 Conocul Ambrozy Sauvignon Blanc (Recas) - 92 points\n",
      "35927. Castra Rubra 2010 CR Red (Thracian Valley) - 91 points\n",
      "36697. Kovács Nimród 2011 Grand Bleu Nagy Eged Grand Cru Kékfrankos (Eger) - 91 points\n",
      "220. Samuel Tinon 2015 Megyer Dry Furmint (Tokaj) - 90 points\n",
      "9714. Purcari 2010 Negru de Purcari Red (Moldova) - 90 points\n",
      "23153. K Cellars 2011 Red (Thracian Valley) - 90 points\n",
      "\n",
      "Taster: Jim Gordon\n",
      "35519. Schramsberg 1999 J. Schram 50 Late Disgorged  (North Coast) - 97 points\n",
      "26892. Schramsberg 2008 J. Schram Rosé (North Coast) - 96 points\n",
      "15189. Schramsberg 2007 J. Schram Sparkling (North Coast) - 95 points\n",
      "15653. Marietta Cellars 2014 Gibson Block Syrah (McDowell Valley) - 94 points\n",
      "15673. Sean Thackrey 2015 Andromeda Devil's Gulch Ranch Pinot Noir (Marin County) - 94 points\n",
      "25384. Freeman 2012 Gloria Estate Pinot Noir (Russian River Valley) - 94 points\n",
      "13983. Terra d'Oro 2013 Deaver Vineyard Zinfandel (Amador County) - 94 points\n",
      "1067. Scott Harvey 2012 Old Vine Reserve Zinfandel (Amador County) - 94 points\n",
      "22502. Peter Franus 2012 Red (Red Hills Lake County) - 94 points\n",
      "38960. Donum 2011 Estate Grown Pinot Noir (Anderson Valley) - 94 points\n",
      "\n",
      "Taster: Joe Czerwinski\n",
      "346. Chambers Rosewood Vineyards NV Rare Muscat (Rutherglen) - 100 points\n",
      "34503. Standish 2006 The Relic Shiraz (Barossa Valley) - 98 points\n",
      "347. Chambers Rosewood Vineyards NV Rare Muscadelle (Rutherglen) - 98 points\n",
      "350. Torbreck 2012 RunRig Shiraz-Viognier (Barossa) - 97 points\n",
      "14345. Müller-Catoir 2007 Breumel in den Mauren Trockenbeerenauslese Riesling (Pfalz) - 97 points\n",
      "349. Chambers Rosewood Vineyards NV Grand Muscat (Rutherglen) - 97 points\n",
      "34507. Standish 2005 The Standish Single Vineyard Shiraz (Barossa Valley) - 96 points\n",
      "36484. Karl Erbes 2006 Ürziger Würzgarten Auslese * * * Goldkap Riesling (Mosel-Saar-Ruwer) - 96 points\n",
      "357. Jasper Hill 2013 Georgia's Paddock Shiraz (Heathcote) - 95 points\n",
      "39060. Wakefield 2013 St. Andrews Single Vineyard Release Shiraz (Clare Valley) - 95 points\n",
      "\n",
      "Taster: Kerin O’Keefe\n",
      "35518. Tenuta San Guido 2012 Sassicaia  (Bolgheri Sassicaia) - 99 points\n",
      "26890. Tenuta San Guido 2013  Bolgheri Sassicaia - 98 points\n",
      "16771. Brezza 2013 Cannubi  (Barolo) - 98 points\n",
      "16772. Comm. G. B. Burlotto 2013 Monvigliero  (Barolo) - 98 points\n",
      "16773. Massolino 2011 Vigna Rionda Riserva  (Barolo) - 98 points\n",
      "16774. Giuseppe Rinaldi 2013 Brunate  (Barolo) - 98 points\n",
      "35520. Marchesi Antinori 2012 Solaia Red (Toscana) - 97 points\n",
      "16524. Germano Ettore 2013 Prapò  (Barolo) - 97 points\n",
      "351. Cavallotto 2010 Vignolo Riserva  (Barolo) - 97 points\n",
      "16775. Elvio Cogno 2013 Ravera  (Barolo) - 97 points\n",
      "\n",
      "Taster: Lauren Buzzeo\n",
      "9913. De Toren 2014 Book 17 XVII Red (Stellenbosch) - 95 points\n",
      "38194. De Toren 2012 Fusion V Red (Stellenbosch) - 94 points\n",
      "38192. Mvemve Raats 2012 MR de Compostella Red (Stellenbosch) - 94 points\n",
      "13986. Vilafonté 2012 Series C Red (Paarl) - 94 points\n",
      "7872. Mvemve Raats 2012 MR de Compostella Red (Stellenbosch) - 94 points\n",
      "7870. Mvemve Raats 2011 MR de Compostella Red (Stellenbosch) - 94 points\n",
      "19308. Gérard Bertrand 2011 La Forge Red (Corbières-Boutenac) - 94 points\n",
      "8115. Kanonkop 2013 Estate Wine Black Label Pinotage (Simonsberg-Stellenbosch) - 93 points\n",
      "34120. Fable Mountain 2011 Syrah (Tulbagh) - 93 points\n",
      "1875. Gérard Bertrand 2008 L'Hospitalitas - La Clape Red (Coteaux du Languedoc) - 93 points\n",
      "\n",
      "Taster: Matt Kettmann\n",
      "15852. Stolo 2014 Estate Syrah (San Luis Obispo County) - 96 points\n",
      "31405. Clos de la Tech 2012 Domaine Du Docteur Rodgers Pinot Noir (Santa Cruz Mountains) - 96 points\n",
      "4513. Calera 2013 Jensen Pinot Noir (Mt. Harlan) - 96 points\n",
      "4507. Calera 2013 Reed Pinot Noir (Mt. Harlan) - 96 points\n",
      "9899. Roark Wine Co. 2014 Sanford & Benedict Vineyard Pinot Noir (Sta. Rita Hills) - 96 points\n",
      "15851. Epoch Estate Wines 2013 Block B Paderewski Vineyard Syrah (Paso Robles) - 96 points\n",
      "8867. Walt 2014 Sierra Mar Pinot Noir (Santa Lucia Highlands) - 95 points\n",
      "8886. Falcone 2013 Mia's Vineyard Cabernet Sauvignon (Paso Robles) - 95 points\n",
      "9925. Mount Eden Vineyards 2014 Estate Bottled Pinot Noir (Santa Cruz Mountains) - 95 points\n",
      "9912. Chanin 2015 Bien Nacido Vineyard Pinot Noir (Santa Maria Valley) - 95 points\n",
      "\n",
      "Taster: Michael Schachner\n",
      "40308. Emilio Moro 2009 Clon de la Familia  (Ribera del Duero) - 98 points\n",
      "33386. Emilio Moro 2010 Malleolus de Valderramiro  (Ribera del Duero) - 97 points\n",
      "15847. Marco Abella 2012 El Perer Carignan (Priorat) - 96 points\n",
      "40311. Emilio Moro 2009 Malleolus de Valderramiro  (Ribera del Duero) - 96 points\n",
      "23442. Astrales 2010  Ribera del Duero - 96 points\n",
      "5008. Maurodos 2008 San Román  (Toro) - 95 points\n",
      "32000. Sierra Cantabria 2006 Amancio  (Rioja) - 95 points\n",
      "11189. Cepa 21 2010 Malabrigo  (Ribera del Duero) - 95 points\n",
      "2509. Artadi 2011 Viña El Pison  (Rioja) - 95 points\n",
      "11188. Campo Eliseo 2009  Toro - 95 points\n",
      "\n",
      "Taster: Mike DeSimone\n",
      "39674. Ouled Thaleb 2012 Médaillon Red (Zenata) - 93 points\n",
      "6674. Sula 2011 Dindori Reserve Shiraz (Nashik) - 93 points\n",
      "13390. Makura Estate 2008 Estate Reserve Red (Upper Galilee) - 92 points\n",
      "19713. Golan Heights Winery 2012 Yarden Cabernet Sauvignon (Galilee) - 92 points\n",
      "6123. Psagot 2012 Cabernet Sauvignon (Judean Hills) - 92 points\n",
      "29782. Kavaklidere 2010 Pendore Syrah (Aegean) - 92 points\n",
      "5227. Madmon 2012 Soreka Special Reserve Cabernet Sauvignon (Shomron) - 92 points\n",
      "31476. Dalton 2013 Alma Scarlet Red (Galilee) - 92 points\n",
      "13387. Jerusalem Wineries 2012 4990 Reserve Cabernet Sauvignon (Judean Hills) - 92 points\n",
      "34694. Yaffo 2011 Heritage Cabernet Sauvignon-Cabernet Franc (Ella Valley) - 92 points\n",
      "\n",
      "Taster: Paul Gregutt\n",
      "1557. Quilceda Creek 2008 Cabernet Sauvignon (Columbia Valley (WA)) - 99 points\n",
      "1561. Pirouette 2008 Red Wine Red (Columbia Valley (WA)) - 98 points\n",
      "33842. Abeja 2007 Reserve Cabernet Sauvignon (Columbia Valley (WA)) - 97 points\n",
      "16529. Trisaetum 2016 Ribbon Ridge Estate Dry Riesling (Ribbon Ridge) - 96 points\n",
      "15844. Ken Wright 2014 Bryce Vineyard Pinot Noir (Ribbon Ridge) - 96 points\n",
      "21715. Den Hoed 2007 Andreas Cabernet Sauvignon (Horse Heaven Hills) - 96 points\n",
      "21714. Leonetti Cellar 2008 Reserve Red (Walla Walla Valley (WA)) - 96 points\n",
      "33389. The Eyrie Vineyards 2012 Original Vines Estate Pinot Noir (Dundee Hills) - 96 points\n",
      "33390. Domaine Drouhin Oregon 2011 Édition Limitée Pinot Noir (Dundee Hills) - 96 points\n",
      "33845. Woodward Canyon 2009 Chardonnay (Washington) - 96 points\n",
      "\n",
      "Taster: Roger Voss\n",
      "36529. Krug 2002 Brut  (Champagne) - 100 points\n",
      "36530. Krug 2002 Clos du Mesnil Brut Blanc de Blancs Chardonnay (Champagne) - 99 points\n",
      "36197. Blandy's 1969 Bual (Madeira) - 98 points\n",
      "27592. Louis Jadot 2014  Bâtard-Montrachet - 98 points\n",
      "1559. Château Margaux 2009  Margaux - 98 points\n",
      "1560. Château Palmer 2009  Margaux - 98 points\n",
      "39289. Château Haut-Brion 2007  Pessac-Léognan - 98 points\n",
      "36531. Salon 2004 Le Mesnil Blanc de Blancs Brut Chardonnay (Champagne) - 98 points\n",
      "16108. Château Pontet-Canet 2012 Barrel Sample  (Pauillac) - 97 points\n",
      "16107. Château Mouton Rothschild 2012 Barrel Sample  (Pauillac) - 97 points\n",
      "\n",
      "Taster: Sean P. Sullivan\n",
      "16532. Hors Categorie 2014 Syrah (Walla Walla Valley (OR)) - 96 points\n",
      "30113. Horsepower 2013 The Tribe Vineyard Syrah (Walla Walla Valley (WA)) - 96 points\n",
      "30130. Cayuse 2013 Bionic Frog Syrah (Walla Walla Valley (WA)) - 95 points\n",
      "30124. Cayuse 2013 Cailloux Vineyard Syrah (Walla Walla Valley (WA)) - 95 points\n",
      "30118. Horsepower 2013 Sur Echalas Vineyard Syrah (Walla Walla Valley (WA)) - 95 points\n",
      "16536. Horsepower 2014 Sur Echalas Vineyard Grenache (Walla Walla Valley (OR)) - 95 points\n",
      "8861. K Vintners 2013 The Hidden Northridge Vineyard Syrah (Wahluke Slope) - 95 points\n",
      "15551. Rôtie Cellars 2012 Northern Blend Syrah (Washington) - 94 points\n",
      "29902. Woodward Canyon 2012 Estate Reserve Red (Walla Walla Valley (WA)) - 94 points\n",
      "29896. Woodward Canyon 2013 Old Vines Cabernet Sauvignon (Washington) - 94 points\n",
      "\n",
      "Taster: Susan Kostrzewa\n",
      "6576. Royal Tokaji 1999 Mézes Mály Aszú 6 Puttonyos  (Tokaji) - 94 points\n",
      "9813. Dionysos 2014 Moschofilero (Mantinia) - 93 points\n",
      "9510. Tsililis 2015 Theopetra Malagouzia-Assyrtiko White - 92 points\n",
      "9537. Boutari 2015 Assyrtico (Santorini) - 92 points\n",
      "27877. Hatzimichalis 2015 Assyrtiko (Atalanti Valley) - 91 points\n",
      "21410. Jackson-Triggs 2005 Proprietors' Reserve Icewine Vidal Blanc (Niagara Peninsula) - 91 points\n",
      "25448. Stark-Condé 2005 Twin Peak Vineyards Unfined and Unfiltered Cabernet Sauvignon (Jonkershoek Valley) - 91 points\n",
      "18098. Emineo 2007 Liber II Red (Durbanville) - 91 points\n",
      "26103. Royal Tokaji 1996 Szt. Tamás Aszú 6 Puttonyos  (Tokaji) - 91 points\n",
      "25451. Glen Carlou 2004 Gravel Quarry Cabernet Sauvignon (Paarl) - 91 points\n",
      "\n",
      "Taster: Virginie Boone\n",
      "30110. Joseph Phelps 2013 Insignia 40th Vintage Estate Grown Red (Napa Valley) - 98 points\n",
      "27593. Shafer 2012 Hillside Select Cabernet Sauvignon (Stags Leap District) - 98 points\n",
      "26891. Iron Horse 2003 Joy! Estate Bottled Sparkling (Green Valley) - 98 points\n",
      "4503. Wayfarer 2014 The Traveler Pinot Noir (Fort Ross-Seaview) - 98 points\n",
      "33385. Williams Selyem 2012 Bucher Vineyard Pinot Noir (Russian River Valley) - 97 points\n",
      "30112. Lynmar 2014 La Sereinité Chardonnay (Russian River Valley) - 97 points\n",
      "15833. Arista 2014 Two Birds Estate Grown Pinot Noir (Russian River Valley) - 97 points\n",
      "4505. Limerick Lane 2013 Rocky Knoll Zinfandel (Russian River Valley) - 97 points\n",
      "4506. Wayfarer 2014 Golden Mean Pinot Noir (Fort Ross-Seaview) - 97 points\n",
      "4508. Wayfarer 2014 Mother Rock Pinot Noir (Fort Ross-Seaview) - 96 points\n",
      "\n"
     ]
    }
   ],
   "source": [
    "# Group the DataFrame by taster_name\n",
    "grouped_by_taster = df.groupby('taster_name')\n",
    "\n",
    "# Iterate over each taster group\n",
    "for taster_name, group_df in grouped_by_taster:\n",
    "    # Sort the group by descending points\n",
    "    sorted_group = group_df.sort_values(by='points', ascending=False)\n",
    "    \n",
    "    # Get the top 10 wines for the taster\n",
    "    top_10_wines = sorted_group.head(10)\n",
    "    \n",
    "    # Print the taster's name and their top 10 wines\n",
    "    print(f\"Taster: {taster_name}\")\n",
    "    for i, row in top_10_wines.iterrows():\n",
    "        title = row['title']\n",
    "        points = row['points']\n",
    "        print(f\"{i+1}. {title} - {points} points\")\n",
    "    print()  # Print an empty line for separation between tasters\n"
   ]
  },
  {
   "cell_type": "markdown",
   "metadata": {},
   "source": [
    "# ***In the second part（Embeddings）***\n",
    "\n",
    "Studying code from week 6.1 Embeddings\n",
    "\n",
    "I want to get recommendations by the score of the wine with the wine and the corresponding taster."
   ]
  },
  {
   "cell_type": "code",
   "execution_count": 25,
   "metadata": {},
   "outputs": [
    {
     "data": {
      "text/plain": [
       "count    40430.000000\n",
       "mean        88.438610\n",
       "std          3.011842\n",
       "min         80.000000\n",
       "25%         86.000000\n",
       "50%         88.000000\n",
       "75%         91.000000\n",
       "max        100.000000\n",
       "Name: points, dtype: float64"
      ]
     },
     "execution_count": 25,
     "metadata": {},
     "output_type": "execute_result"
    }
   ],
   "source": [
    "df[\"points\"].describe()"
   ]
  },
  {
   "cell_type": "code",
   "execution_count": 26,
   "metadata": {},
   "outputs": [],
   "source": [
    "from sklearn.preprocessing import MinMaxScaler\n",
    "##Pick the range\n",
    "df[\"points\"] = MinMaxScaler().fit_transform(df[\"points\"].values.reshape(-1, 1))"
   ]
  },
  {
   "cell_type": "code",
   "execution_count": 27,
   "metadata": {
    "scrolled": true
   },
   "outputs": [
    {
     "data": {
      "text/plain": [
       "count    40430.000000\n",
       "mean         0.421930\n",
       "std          0.150592\n",
       "min          0.000000\n",
       "25%          0.300000\n",
       "50%          0.400000\n",
       "75%          0.550000\n",
       "max          1.000000\n",
       "Name: points, dtype: float64"
      ]
     },
     "execution_count": 27,
     "metadata": {},
     "output_type": "execute_result"
    }
   ],
   "source": [
    "df[\"points\"].describe()"
   ]
  },
  {
   "cell_type": "code",
   "execution_count": 57,
   "metadata": {},
   "outputs": [
    {
     "data": {
      "text/plain": [
       "{'Kerin O’Keefe': 0,\n",
       " 'Roger Voss': 1,\n",
       " 'Paul Gregutt': 2,\n",
       " 'Alexander Peartree': 3,\n",
       " 'Michael Schachner': 4,\n",
       " 'Anna Lee C. Iijima': 5,\n",
       " 'Virginie Boone': 6,\n",
       " 'Matt Kettmann': 7,\n",
       " nan: 8,\n",
       " 'Sean P. Sullivan': 9,\n",
       " 'Jim Gordon': 10,\n",
       " 'Joe Czerwinski': 11,\n",
       " 'Anne Krebiehl\\xa0MW': 12,\n",
       " 'Lauren Buzzeo': 13,\n",
       " 'Mike DeSimone': 14,\n",
       " 'Jeff Jenssen': 15,\n",
       " 'Susan Kostrzewa': 16,\n",
       " 'Carrie Dykes': 17,\n",
       " 'Fiona Adams': 18,\n",
       " 'Christina Pickard': 19}"
      ]
     },
     "execution_count": 57,
     "metadata": {},
     "output_type": "execute_result"
    }
   ],
   "source": [
    "taster_name_id_to_index"
   ]
  },
  {
   "cell_type": "code",
   "execution_count": 59,
   "metadata": {},
   "outputs": [
    {
     "data": {
      "text/plain": [
       "39344"
      ]
     },
     "execution_count": 59,
     "metadata": {},
     "output_type": "execute_result"
    }
   ],
   "source": [
    "len(title_id_to_index)"
   ]
  },
  {
   "cell_type": "code",
   "execution_count": 61,
   "metadata": {},
   "outputs": [
    {
     "name": "stdout",
     "output_type": "stream",
     "text": [
      "Total number of titles: 40430\n"
     ]
    }
   ],
   "source": [
    "num_titles = len(df['title'])\n",
    "print(\"Total number of titles:\", num_titles)"
   ]
  },
  {
   "cell_type": "code",
   "execution_count": 62,
   "metadata": {},
   "outputs": [
    {
     "name": "stdout",
     "output_type": "stream",
     "text": [
      "Duplicate titles:\n",
      "959                 Jacquart NV Brut Mosaïque  (Champagne)\n",
      "1176     Spagnol NV Col del Sas Extra Dry  (Prosecco di...\n",
      "2360     Domaines Devillard 2011 Château de Chamirey  (...\n",
      "2408               Souverain 2010 Chardonnay (North Coast)\n",
      "2409     Tasca d'Almerita 2011 Sallier de la Tour Grill...\n",
      "                               ...                        \n",
      "40161                      Campbells NV Tokay (Rutherglen)\n",
      "40299    Segura Viudas NV Aria Estate Extra Dry Sparkli...\n",
      "40300    J. Garcia Carrion NV Opera Prima Sparkling Mos...\n",
      "40303               Freixenet NV Spumante Sparkling (Cava)\n",
      "40381    Louis Latour 2011 Morgeot Premier Cru  (Chassa...\n",
      "Name: title, Length: 1086, dtype: object\n"
     ]
    }
   ],
   "source": [
    "duplicate_titles = df[df['title'].duplicated()]\n",
    "print(\"Duplicate titles:\")\n",
    "print(duplicate_titles['title'])\n"
   ]
  },
  {
   "cell_type": "code",
   "execution_count": 65,
   "metadata": {},
   "outputs": [
    {
     "name": "stdout",
     "output_type": "stream",
     "text": [
      "                                                   title        taster_name\n",
      "959               Jacquart NV Brut Mosaïque  (Champagne)         Roger Voss\n",
      "1176   Spagnol NV Col del Sas Extra Dry  (Prosecco di...                NaN\n",
      "2360   Domaines Devillard 2011 Château de Chamirey  (...         Roger Voss\n",
      "2408             Souverain 2010 Chardonnay (North Coast)     Virginie Boone\n",
      "2409   Tasca d'Almerita 2011 Sallier de la Tour Grill...                NaN\n",
      "...                                                  ...                ...\n",
      "40161                    Campbells NV Tokay (Rutherglen)     Joe Czerwinski\n",
      "40299  Segura Viudas NV Aria Estate Extra Dry Sparkli...  Michael Schachner\n",
      "40300  J. Garcia Carrion NV Opera Prima Sparkling Mos...  Michael Schachner\n",
      "40303             Freixenet NV Spumante Sparkling (Cava)  Michael Schachner\n",
      "40381  Louis Latour 2011 Morgeot Premier Cru  (Chassa...         Roger Voss\n",
      "\n",
      "[1086 rows x 2 columns]\n"
     ]
    }
   ],
   "source": [
    "duplicate_titles = df[df['title'].duplicated()]\n",
    "duplicate_titles_with_taster = duplicate_titles[['title', 'taster_name']]\n",
    "print(duplicate_titles_with_taster)\n"
   ]
  },
  {
   "cell_type": "code",
   "execution_count": 30,
   "metadata": {},
   "outputs": [],
   "source": [
    "#Make a new column in the dataframe which contains the appropriate index for each user and movie\n",
    "df[\"taster_name_index\"] = [taster_name_id_to_index[i] for i in df[\"taster_name\"]]\n",
    "df[\"title_index\"] = [title_id_to_index[i] for i in df[\"title\"]]"
   ]
  },
  {
   "cell_type": "code",
   "execution_count": 31,
   "metadata": {},
   "outputs": [
    {
     "data": {
      "text/html": [
       "<div>\n",
       "<style scoped>\n",
       "    .dataframe tbody tr th:only-of-type {\n",
       "        vertical-align: middle;\n",
       "    }\n",
       "\n",
       "    .dataframe tbody tr th {\n",
       "        vertical-align: top;\n",
       "    }\n",
       "\n",
       "    .dataframe thead th {\n",
       "        text-align: right;\n",
       "    }\n",
       "</style>\n",
       "<table border=\"1\" class=\"dataframe\">\n",
       "  <thead>\n",
       "    <tr style=\"text-align: right;\">\n",
       "      <th></th>\n",
       "      <th>Unnamed: 0</th>\n",
       "      <th>country</th>\n",
       "      <th>description</th>\n",
       "      <th>designation</th>\n",
       "      <th>points</th>\n",
       "      <th>price</th>\n",
       "      <th>province</th>\n",
       "      <th>region_1</th>\n",
       "      <th>region_2</th>\n",
       "      <th>taster_name</th>\n",
       "      <th>taster_twitter_handle</th>\n",
       "      <th>title</th>\n",
       "      <th>variety</th>\n",
       "      <th>winery</th>\n",
       "      <th>taster_name_index</th>\n",
       "      <th>title_index</th>\n",
       "    </tr>\n",
       "  </thead>\n",
       "  <tbody>\n",
       "    <tr>\n",
       "      <th>0</th>\n",
       "      <td>0</td>\n",
       "      <td>Italy</td>\n",
       "      <td>Aromas include tropical fruit, broom, brimston...</td>\n",
       "      <td>Vulkà Bianco</td>\n",
       "      <td>0.35</td>\n",
       "      <td>NaN</td>\n",
       "      <td>Sicily &amp; Sardinia</td>\n",
       "      <td>Etna</td>\n",
       "      <td>NaN</td>\n",
       "      <td>Kerin O’Keefe</td>\n",
       "      <td>@kerinokeefe</td>\n",
       "      <td>Nicosia 2013 Vulkà Bianco  (Etna)</td>\n",
       "      <td>White Blend</td>\n",
       "      <td>Nicosia</td>\n",
       "      <td>0</td>\n",
       "      <td>0</td>\n",
       "    </tr>\n",
       "    <tr>\n",
       "      <th>1</th>\n",
       "      <td>1</td>\n",
       "      <td>Portugal</td>\n",
       "      <td>This is ripe and fruity, a wine that is smooth...</td>\n",
       "      <td>Avidagos</td>\n",
       "      <td>0.35</td>\n",
       "      <td>15.0</td>\n",
       "      <td>Douro</td>\n",
       "      <td>NaN</td>\n",
       "      <td>NaN</td>\n",
       "      <td>Roger Voss</td>\n",
       "      <td>@vossroger</td>\n",
       "      <td>Quinta dos Avidagos 2011 Avidagos Red (Douro)</td>\n",
       "      <td>Portuguese Red</td>\n",
       "      <td>Quinta dos Avidagos</td>\n",
       "      <td>1</td>\n",
       "      <td>1</td>\n",
       "    </tr>\n",
       "    <tr>\n",
       "      <th>2</th>\n",
       "      <td>2</td>\n",
       "      <td>US</td>\n",
       "      <td>Tart and snappy, the flavors of lime flesh and...</td>\n",
       "      <td>NaN</td>\n",
       "      <td>0.35</td>\n",
       "      <td>14.0</td>\n",
       "      <td>Oregon</td>\n",
       "      <td>Willamette Valley</td>\n",
       "      <td>Willamette Valley</td>\n",
       "      <td>Paul Gregutt</td>\n",
       "      <td>@paulgwine</td>\n",
       "      <td>Rainstorm 2013 Pinot Gris (Willamette Valley)</td>\n",
       "      <td>Pinot Gris</td>\n",
       "      <td>Rainstorm</td>\n",
       "      <td>2</td>\n",
       "      <td>2</td>\n",
       "    </tr>\n",
       "    <tr>\n",
       "      <th>3</th>\n",
       "      <td>3</td>\n",
       "      <td>US</td>\n",
       "      <td>Pineapple rind, lemon pith and orange blossom ...</td>\n",
       "      <td>Reserve Late Harvest</td>\n",
       "      <td>0.35</td>\n",
       "      <td>13.0</td>\n",
       "      <td>Michigan</td>\n",
       "      <td>Lake Michigan Shore</td>\n",
       "      <td>NaN</td>\n",
       "      <td>Alexander Peartree</td>\n",
       "      <td>NaN</td>\n",
       "      <td>St. Julian 2013 Reserve Late Harvest Riesling ...</td>\n",
       "      <td>Riesling</td>\n",
       "      <td>St. Julian</td>\n",
       "      <td>3</td>\n",
       "      <td>3</td>\n",
       "    </tr>\n",
       "    <tr>\n",
       "      <th>4</th>\n",
       "      <td>4</td>\n",
       "      <td>US</td>\n",
       "      <td>Much like the regular bottling from 2012, this...</td>\n",
       "      <td>Vintner's Reserve Wild Child Block</td>\n",
       "      <td>0.35</td>\n",
       "      <td>65.0</td>\n",
       "      <td>Oregon</td>\n",
       "      <td>Willamette Valley</td>\n",
       "      <td>Willamette Valley</td>\n",
       "      <td>Paul Gregutt</td>\n",
       "      <td>@paulgwine</td>\n",
       "      <td>Sweet Cheeks 2012 Vintner's Reserve Wild Child...</td>\n",
       "      <td>Pinot Noir</td>\n",
       "      <td>Sweet Cheeks</td>\n",
       "      <td>2</td>\n",
       "      <td>4</td>\n",
       "    </tr>\n",
       "  </tbody>\n",
       "</table>\n",
       "</div>"
      ],
      "text/plain": [
       "   Unnamed: 0   country                                        description  \\\n",
       "0           0     Italy  Aromas include tropical fruit, broom, brimston...   \n",
       "1           1  Portugal  This is ripe and fruity, a wine that is smooth...   \n",
       "2           2        US  Tart and snappy, the flavors of lime flesh and...   \n",
       "3           3        US  Pineapple rind, lemon pith and orange blossom ...   \n",
       "4           4        US  Much like the regular bottling from 2012, this...   \n",
       "\n",
       "                          designation  points  price           province  \\\n",
       "0                        Vulkà Bianco    0.35    NaN  Sicily & Sardinia   \n",
       "1                            Avidagos    0.35   15.0              Douro   \n",
       "2                                 NaN    0.35   14.0             Oregon   \n",
       "3                Reserve Late Harvest    0.35   13.0           Michigan   \n",
       "4  Vintner's Reserve Wild Child Block    0.35   65.0             Oregon   \n",
       "\n",
       "              region_1           region_2         taster_name  \\\n",
       "0                 Etna                NaN       Kerin O’Keefe   \n",
       "1                  NaN                NaN          Roger Voss   \n",
       "2    Willamette Valley  Willamette Valley        Paul Gregutt   \n",
       "3  Lake Michigan Shore                NaN  Alexander Peartree   \n",
       "4    Willamette Valley  Willamette Valley        Paul Gregutt   \n",
       "\n",
       "  taster_twitter_handle                                              title  \\\n",
       "0          @kerinokeefe                  Nicosia 2013 Vulkà Bianco  (Etna)   \n",
       "1            @vossroger      Quinta dos Avidagos 2011 Avidagos Red (Douro)   \n",
       "2           @paulgwine       Rainstorm 2013 Pinot Gris (Willamette Valley)   \n",
       "3                   NaN  St. Julian 2013 Reserve Late Harvest Riesling ...   \n",
       "4           @paulgwine   Sweet Cheeks 2012 Vintner's Reserve Wild Child...   \n",
       "\n",
       "          variety               winery  taster_name_index  title_index  \n",
       "0     White Blend              Nicosia                  0            0  \n",
       "1  Portuguese Red  Quinta dos Avidagos                  1            1  \n",
       "2      Pinot Gris            Rainstorm                  2            2  \n",
       "3        Riesling           St. Julian                  3            3  \n",
       "4      Pinot Noir         Sweet Cheeks                  2            4  "
      ]
     },
     "execution_count": 31,
     "metadata": {},
     "output_type": "execute_result"
    }
   ],
   "source": [
    "df.head(5)"
   ]
  },
  {
   "cell_type": "code",
   "execution_count": 32,
   "metadata": {},
   "outputs": [],
   "source": [
    "from sklearn.model_selection import train_test_split\n",
    "#Inputs\n",
    "x = df[[\"taster_name_index\", \"title_index\"]]\n",
    "#Outputs\n",
    "y = df[\"points\"]\n",
    "#Get train-test split\n",
    "x_train, x_val, y_train, y_val = train_test_split(x, y, test_size=0.1, random_state=42)"
   ]
  },
  {
   "cell_type": "code",
   "execution_count": 33,
   "metadata": {},
   "outputs": [],
   "source": [
    "#import library\n",
    "import torch"
   ]
  },
  {
   "cell_type": "code",
   "execution_count": 34,
   "metadata": {},
   "outputs": [
    {
     "name": "stdout",
     "output_type": "stream",
     "text": [
      "__init__ called\n",
      "\n",
      "forwards pass (new batch)\n",
      "tensor([[1.],\n",
      "        [2.],\n",
      "        [3.],\n",
      "        [4.]]) \n",
      "\n"
     ]
    }
   ],
   "source": [
    "#Define class and subclass torch.nn.Module\n",
    "class DairunNet(torch.nn.Module):\n",
    "    \n",
    "    #Override __init__()\n",
    "    def __init__(self):\n",
    "        super().__init__()\n",
    "        print(\"__init__ called\")\n",
    "    \n",
    "    #Override forward()\n",
    "    def forward(self, inputs):\n",
    "        print(\"\\nforwards pass (new batch)\")\n",
    "        print(inputs,\"\\n\")\n",
    "        #return the output (its just the input, unchanged)\n",
    "        return inputs\n",
    "\n",
    "#Make a new instance of LouisNet    \n",
    "dairunNet = DairunNet()\n",
    "loss_fn = torch.nn.MSELoss() \n",
    "\n",
    "#Fake dataset\n",
    "x = torch.FloatTensor([[1],[2],[3],[4]])\n",
    "y = torch.FloatTensor([[2],[3],[4],[5]])\n",
    "\n",
    "#Do a forwards pass\n",
    "prediction = dairunNet(x)\n",
    "loss = loss_fn(prediction, y)"
   ]
  },
  {
   "cell_type": "code",
   "execution_count": 35,
   "metadata": {},
   "outputs": [],
   "source": [
    "class RecommenderNet(torch.nn.Module):\n",
    "    def __init__(self, num_taster_name, num_title, embedding_size=20):\n",
    "        super().__init__()\n",
    "        self.taster_name_embedding = torch.nn.Embedding(num_taster_name, embedding_size)\n",
    "        self.taster_name_bias = torch.nn.Embedding(num_taster_name, 1)\n",
    "        self.title_embedding = torch.nn.Embedding(num_title, embedding_size)\n",
    "        self.title_bias = torch.nn.Embedding(num_title, 1)\n",
    "        self.sig = torch.nn.Sigmoid()\n",
    "\n",
    "    def forward(self, inputs):\n",
    "        #Split out indexes \n",
    "        taster_name_indexes = inputs[:, 0]\n",
    "        title_indexes = inputs[:, 1]\n",
    "        #Forward pass on embedding layer\n",
    "        taster_name_vector = self.taster_name_embedding(taster_name_indexes)\n",
    "        taster_name_bias = self.taster_name_bias(taster_name_indexes).flatten()\n",
    "        title_vector = self.title_embedding(title_indexes)\n",
    "        title_bias = self.title_bias(title_indexes).flatten()\n",
    "        #Dot product\n",
    "        dot = (taster_name_vector * title_vector).sum(1)\n",
    "        with_bias = dot + taster_name_bias + title_bias\n",
    "        #Activation function\n",
    "        output = self.sig(with_bias)\n",
    "        return output"
   ]
  },
  {
   "cell_type": "code",
   "execution_count": 97,
   "metadata": {},
   "outputs": [],
   "source": [
    "#Pick Embedding size\n",
    "EMBEDDING_SIZE = 16\n",
    "#Make new object (calls __init__())\n",
    "num_taster_name = len(taster_name_ids)\n",
    "num_title = len(title_ids)\n",
    "model = RecommenderNet(num_taster_name, num_title, EMBEDDING_SIZE)"
   ]
  },
  {
   "cell_type": "code",
   "execution_count": 37,
   "metadata": {},
   "outputs": [
    {
     "name": "stdout",
     "output_type": "stream",
     "text": [
      "20\n"
     ]
    }
   ],
   "source": [
    "print(num_taster_name)"
   ]
  },
  {
   "cell_type": "code",
   "execution_count": 38,
   "metadata": {},
   "outputs": [],
   "source": [
    "from torch.utils.data import DataLoader\n",
    "from torch.utils.data import Dataset\n",
    "\n",
    "#Make a subclass to hold our dataset (movie - user pairs (input) and a rating (label))\n",
    "class MoviesDataset(Dataset):\n",
    "    def __init__(self, X,y):\n",
    "        self.X = torch.IntTensor(X)\n",
    "        self.y = torch.FloatTensor(y)\n",
    "    def __len__(self):\n",
    "        return len(self.X)\n",
    "    def __getitem__(self, idx):\n",
    "        return self.X[idx], self.y[idx]"
   ]
  },
  {
   "cell_type": "code",
   "execution_count": 39,
   "metadata": {},
   "outputs": [],
   "source": [
    "#Use our train - validation split to make DataLoader objects\n",
    "train_dl = DataLoader(MoviesDataset(x_train.values,y_train.values), batch_size=64, shuffle=True)\n",
    "validation_dl = DataLoader(MoviesDataset(x_val.values,y_val.values), batch_size=64, shuffle=True)"
   ]
  },
  {
   "cell_type": "code",
   "execution_count": 40,
   "metadata": {},
   "outputs": [],
   "source": [
    "epochs = 10\n",
    "#Use Mean Squared Error as a loss function\n",
    "loss_fn = torch.nn.MSELoss() \n",
    "#Use the Adam algorithm to update the weights based on the loss\n",
    "optimizer = torch.optim.Adam(model.parameters(),lr=0.01)"
   ]
  },
  {
   "cell_type": "code",
   "execution_count": 41,
   "metadata": {},
   "outputs": [
    {
     "name": "stdout",
     "output_type": "stream",
     "text": [
      "Loss 0.10652416944503784 Validation Loss 0.06801959872245789\n",
      "Loss 0.053029175847768784 Validation Loss 0.06705085933208466\n",
      "Loss 0.02965335175395012 Validation Loss 0.06993348151445389\n",
      "Loss 0.012448442168533802 Validation Loss 0.0724158063530922\n",
      "Loss 0.006259355694055557 Validation Loss 0.07196589559316635\n",
      "Loss 0.004682246129959822 Validation Loss 0.07002466917037964\n",
      "Loss 0.003931661136448383 Validation Loss 0.06866613775491714\n",
      "Loss 0.003514733863994479 Validation Loss 0.06738979369401932\n",
      "Loss 0.003288489067927003 Validation Loss 0.0672011524438858\n",
      "Loss 0.003191101597622037 Validation Loss 0.0659521222114563\n"
     ]
    }
   ],
   "source": [
    "#Use a for loop to repeat for the desired number of epochs \n",
    "for i in range(epochs):\n",
    "    \n",
    "    model.train(True)\n",
    "    \n",
    "    #Use a for loop for each batch (provided by the Dataloader)\n",
    "    running_loss = 0.0\n",
    "    for (index, batch) in enumerate(train_dl):\n",
    "        \n",
    "        #Get batch \n",
    "        inputs, labels = batch\n",
    "        model.zero_grad()\n",
    "        \n",
    "        #Forward pass\n",
    "        prediction = model(inputs)\n",
    "        \n",
    "        #Get Loss\n",
    "        loss = loss_fn(prediction, labels)\n",
    "        \n",
    "        #Update weights (back prop)\n",
    "        loss.backward()\n",
    "        optimizer.step()\n",
    "        running_loss += loss\n",
    "    \n",
    "    avg_loss = running_loss / (index + 1)\n",
    "\n",
    "    model.train(False)\n",
    "\n",
    "    #Now try with the validation set (no need to update weights, just get loss)\n",
    "    running_vloss = 0.0\n",
    "    for index, vdata in enumerate(validation_dl):\n",
    "        vinputs, vlabels = vdata\n",
    "        voutputs = model(vinputs)\n",
    "        vloss = loss_fn(voutputs, vlabels)\n",
    "        running_vloss += vloss\n",
    "\n",
    "    avg_vloss = running_vloss / (index + 1)\n",
    "    print('Loss {} Validation Loss {}'.format(avg_loss, avg_vloss))"
   ]
  },
  {
   "cell_type": "code",
   "execution_count": 42,
   "metadata": {},
   "outputs": [],
   "source": [
    "torch.save(model.state_dict(), 'model_weights_1.pth')"
   ]
  },
  {
   "cell_type": "code",
   "execution_count": 43,
   "metadata": {},
   "outputs": [
    {
     "data": {
      "text/plain": [
       "RecommenderNet(\n",
       "  (taster_name_embedding): Embedding(20, 16)\n",
       "  (taster_name_bias): Embedding(20, 1)\n",
       "  (title_embedding): Embedding(39344, 16)\n",
       "  (title_bias): Embedding(39344, 1)\n",
       "  (sig): Sigmoid()\n",
       ")"
      ]
     },
     "execution_count": 43,
     "metadata": {},
     "output_type": "execute_result"
    }
   ],
   "source": [
    "model = RecommenderNet(num_taster_name, num_title, EMBEDDING_SIZE)\n",
    "model.load_state_dict(torch.load('model_weights_1.pth'))\n",
    "model.eval()"
   ]
  },
  {
   "cell_type": "code",
   "execution_count": 44,
   "metadata": {},
   "outputs": [
    {
     "data": {
      "text/plain": [
       "(20, 16, Embedding(20, 16))"
      ]
     },
     "execution_count": 44,
     "metadata": {},
     "output_type": "execute_result"
    }
   ],
   "source": [
    "num_taster_name, EMBEDDING_SIZE, model.taster_name_embedding"
   ]
  },
  {
   "cell_type": "code",
   "execution_count": 45,
   "metadata": {},
   "outputs": [],
   "source": [
    "def get_top_n(taster_name = 0, n = 10): \n",
    "\n",
    "    top_n_indexes = get_top_n_indexes(taster_name, n)\n",
    "   \n",
    "    return top_n_indexes"
   ]
  },
  {
   "cell_type": "code",
   "execution_count": 46,
   "metadata": {},
   "outputs": [],
   "source": [
    "def get_names_for_indexes(indexes):\n",
    "    return [df[df[\"title\"]==title_ids[i]][\"title\"].item() for i in indexes]"
   ]
  },
  {
   "cell_type": "code",
   "execution_count": 47,
   "metadata": {},
   "outputs": [],
   "source": [
    "def get_top_n_indexes(taster_name = 0, n = 10):\n",
    "    #For one user, make a pair with every movie index\n",
    "    x = torch.IntTensor([[taster_name, i] for i in np.arange(num_title)])\n",
    "    #Predict \n",
    "    predicted_ratings = model(x)\n",
    "    #Get Top-N indexes\n",
    "    top_n_indexes = predicted_ratings.argsort()[-n:]\n",
    "    return top_n_indexes"
   ]
  },
  {
   "cell_type": "code",
   "execution_count": 48,
   "metadata": {},
   "outputs": [],
   "source": [
    "import numpy as np"
   ]
  },
  {
   "cell_type": "code",
   "execution_count": 49,
   "metadata": {},
   "outputs": [
    {
     "data": {
      "text/plain": [
       "['Kay Brothers 2010 Amery Vineyard Block 6 Shiraz (McLaren Vale)',\n",
       " 'Prà 2011 Staforte  (Soave Classico)',\n",
       " 'Bodega Patritti 2010 Lassia Select Red (Patagonia)',\n",
       " 'Château Laffitte Laujac 2010 L de Laffitte Laujac  (Médoc)',\n",
       " 'Harlow Ridge 2011 Chardonnay (Lodi)',\n",
       " 'Quilceda Creek 2008 Cabernet Sauvignon (Columbia Valley (WA))',\n",
       " 'Signorello 2005 Padrone Proprietary Red Wine Red (Napa Valley)',\n",
       " \"Paradise Ridge 2003 Ladi's Vineyard Cabernet Sauvignon (Sonoma County)\",\n",
       " 'Swanson 2005 Alexis Cabernet Sauvignon (Oakville)',\n",
       " 'Incognito 2008 Red (Lodi)']"
      ]
     },
     "execution_count": 49,
     "metadata": {},
     "output_type": "execute_result"
    }
   ],
   "source": [
    "#random users' top 10\n",
    "get_names_for_indexes(get_top_n(np.random.randint(num_taster_name)))"
   ]
  },
  {
   "cell_type": "code",
   "execution_count": 50,
   "metadata": {},
   "outputs": [
    {
     "name": "stdout",
     "output_type": "stream",
     "text": [
      "taster_name 0\n",
      "Top 10 title:\n",
      "['Conte Collalto NV Brut  (Valdobbiadene Prosecco Superiore)']\n",
      "[\"Wayfarer 2012 Paige's Ridge Pinot Noir (Fort Ross-Seaview)\"]\n",
      "['Paratus 2012 Cabernet Sauvignon (Mount Veeder)']\n",
      "['Spring Valley Vineyard 2009 Uriah Estate Grown Red Wine Red (Walla Walla Valley (WA))']\n",
      "['Viña Godeval 2013 Godello (Valdeorras)']\n",
      "['Castillo De Feliciana 2011 Reserve Tempranillo (Columbia Valley (WA))']\n",
      "['Xavier Flouret 2005 Château Haut-Meneau La Victoire  (Premieres Côtes de Blaye)']\n",
      "['Harlow Ridge 2011 Chardonnay (Lodi)']\n",
      "['Larkspur 2013 Pinot Noir (Oregon)']\n",
      "[\"Paradise Ridge 2003 Ladi's Vineyard Cabernet Sauvignon (Sonoma County)\"]\n",
      "taster_name 1\n",
      "Top 10 title:\n",
      "['Tenute Silvio Nardi 1999  Brunello di Montalcino']\n",
      "['Uccelliera 2006 Riserva  (Brunello di Montalcino)']\n",
      "['Ridge 2012 Bento Dusi Ranch Zinfandel (Paso Robles)']\n",
      "['Frank Family 2012 Reserve Zinfandel (Chiles Valley)']\n",
      "['Boeckel 2015 Zotzenberg Grand Cru Sylvaner (Alsace)']\n",
      "['Harlow Ridge 2011 Chardonnay (Lodi)']\n",
      "['Cottanera 2014 Contrada Calderara Bianco  (Etna)']\n",
      "['O•S Winery 2006 Dineen Vineyard Syrah (Yakima Valley)']\n",
      "['Krug 2002 Brut  (Champagne)']\n",
      "[\"Paradise Ridge 2003 Ladi's Vineyard Cabernet Sauvignon (Sonoma County)\"]\n",
      "taster_name 2\n",
      "Top 10 title:\n",
      "['Gundlach Bundschu 2007 Estate Vineyard Chardonnay (Sonoma Valley)']\n",
      "['Joseph Drouhin 2008 Les Amoureuses Premier Cru  (Chambolle-Musigny)']\n",
      "['Harlow Ridge 2011 Chardonnay (Lodi)']\n",
      "['Signorello 2005 Padrone Proprietary Red Wine Red (Napa Valley)']\n",
      "['Cottanera 2014 Contrada Calderara Bianco  (Etna)']\n",
      "['Quilceda Creek 2008 Cabernet Sauvignon (Columbia Valley (WA))']\n",
      "[\"Paradise Ridge 2003 Ladi's Vineyard Cabernet Sauvignon (Sonoma County)\"]\n",
      "['Domaine Michel Goubard 2015 Mont-Avril  (Côte Chalonnaise)']\n",
      "['Château Rauzan-Gassies 2012 Barrel Sample  (Margaux)']\n",
      "['Larkspur 2013 Pinot Noir (Oregon)']\n",
      "taster_name 3\n",
      "Top 10 title:\n",
      "['Sottano 2010 Reserva de Familia Malbec (Mendoza)']\n",
      "[\"Terras de Alter 2012 Terra D'Alter Alicante Bouschet (Alentejano)\"]\n",
      "['Château Meillier 2015  Bordeaux Supérieur']\n",
      "['Pierre Chardigny 2015 Vieilles Vignes  (Saint-Véran)']\n",
      "['Fritz 2015 Estate Grown Sauvignon Blanc (Dry Creek Valley)']\n",
      "['S.A. Prüm 2014 Essence Riesling (Mosel)']\n",
      "['Casa Santos Lima 2014 Cigarra Reserva Red (Lisboa)']\n",
      "['Casa de Vila Verde 2014 Pluma Reserva Alvarinho (Minho)']\n",
      "['Le Macchiole 2007 Messorio Merlot (Toscana)']\n",
      "['Columbia Crest 2008 H3 Cabernet Sauvignon (Horse Heaven Hills)']\n",
      "taster_name 4\n",
      "Top 10 title:\n",
      "['Quinta Nova de Nossa Senhora do Carmo 2014 Reserva Unoaked Red (Douro)']\n",
      "['Siduri 2015 Soberanes Vineyard Pinot Noir (Santa Lucia Highlands)']\n",
      "['Sartori 2004 I Saltari Le Vigne di Turano  (Amarone della Valpolicella)']\n",
      "['Azelia 2011 Bricco Fiasco  (Barolo)']\n",
      "['Robert Ramsay 2014 Par La Mer Red (Horse Heaven Hills)']\n",
      "['Château Laffitte Laujac 2010 L de Laffitte Laujac  (Médoc)']\n",
      "['Swanson 2005 Alexis Cabernet Sauvignon (Oakville)']\n",
      "['Betz Family 2013 Père de Famille Cabernet Sauvignon (Columbia Valley (WA))']\n",
      "['Larkspur 2013 Pinot Noir (Oregon)']\n",
      "[\"Paradise Ridge 2003 Ladi's Vineyard Cabernet Sauvignon (Sonoma County)\"]\n",
      "taster_name 5\n",
      "Top 10 title:\n",
      "['Weibel Family 2012 Patriot Red (Mendocino County)']\n",
      "['Patz & Hall 2008 Pisoni Vineyard Pinot Noir (Santa Lucia Highlands)']\n",
      "['Olivier Leflaive 2010  Chassagne-Montrachet']\n",
      "['Tenute Silvio Nardi 1999  Brunello di Montalcino']\n",
      "['La Sirena 2009 Pirate TreasuRed Red (Napa Valley)']\n",
      "['Krug 2002 Brut  (Champagne)']\n",
      "['Incognito 2008 Red (Lodi)']\n",
      "[\"Paradise Ridge 2003 Ladi's Vineyard Cabernet Sauvignon (Sonoma County)\"]\n",
      "['Harlow Ridge 2011 Chardonnay (Lodi)']\n",
      "['Cottanera 2014 Contrada Calderara Bianco  (Etna)']\n",
      "taster_name 6\n",
      "Top 10 title:\n",
      "['Château Grande Cassagne 2010 Rosé (Costières de Nîmes)']\n",
      "['Tenute Silvio Nardi 1999  Brunello di Montalcino']\n",
      "['Castle Rock 2008 Reserve Pinot Noir (Russian River Valley)']\n",
      "['Weibel Family 2012 Patriot Red (Mendocino County)']\n",
      "['Villagrán 2007 Cortijo de Balsillas Tempranillo (Vino de la Tierra Altiplano de Sierra Nevada)']\n",
      "['Harlow Ridge 2011 Chardonnay (Lodi)']\n",
      "['Cottanera 2014 Contrada Calderara Bianco  (Etna)']\n",
      "['Quilceda Creek 2008 Cabernet Sauvignon (Columbia Valley (WA))']\n",
      "['Incognito 2008 Red (Lodi)']\n",
      "['Scala Dei 2010 Cartoixa Red (Priorat)']\n",
      "taster_name 7\n",
      "Top 10 title:\n",
      "['Conte Collalto NV Brut  (Valdobbiadene Prosecco Superiore)']\n",
      "['Signorello 2005 Padrone Proprietary Red Wine Red (Napa Valley)']\n",
      "['Château Grande Cassagne 2010 Rosé (Costières de Nîmes)']\n",
      "['Quilceda Creek 2008 Cabernet Sauvignon (Columbia Valley (WA))']\n",
      "['Larkspur 2013 Pinot Noir (Oregon)']\n",
      "['Harlow Ridge 2011 Chardonnay (Lodi)']\n",
      "['Castillo De Feliciana 2011 Reserve Tempranillo (Columbia Valley (WA))']\n",
      "['Cottanera 2014 Contrada Calderara Bianco  (Etna)']\n",
      "['Villagrán 2007 Cortijo de Balsillas Tempranillo (Vino de la Tierra Altiplano de Sierra Nevada)']\n",
      "['Scala Dei 2010 Cartoixa Red (Priorat)']\n",
      "taster_name 8\n",
      "Top 10 title:\n",
      "['Sottano 2010 Reserva de Familia Malbec (Mendoza)']\n",
      "['Castillo De Feliciana 2011 Reserve Tempranillo (Columbia Valley (WA))']\n",
      "['Avignonesi 1995 Occhio di Pernice  (Vin Santo di Montepulciano)']\n",
      "['Barrister 2006 Morrison Lane Syrah (Walla Walla Valley (WA))']\n",
      "['Columbia Crest 2008 H3 Cabernet Sauvignon (Horse Heaven Hills)']\n",
      "['Cottanera 2014 Contrada Calderara Bianco  (Etna)']\n",
      "['Joseph Drouhin 2008 Les Amoureuses Premier Cru  (Chambolle-Musigny)']\n",
      "['Quilceda Creek 2008 Cabernet Sauvignon (Columbia Valley (WA))']\n",
      "[\"Paradise Ridge 2003 Ladi's Vineyard Cabernet Sauvignon (Sonoma County)\"]\n",
      "['Villagrán 2007 Cortijo de Balsillas Tempranillo (Vino de la Tierra Altiplano de Sierra Nevada)']\n",
      "taster_name 9\n",
      "Top 10 title:\n",
      "['Finca Villacreces 2014 Pruno  (Ribera del Duero)']\n",
      "['Château Pindefleurs 2013  Saint-Émilion']\n",
      "['Villagrán 2007 Cortijo de Balsillas Tempranillo (Vino de la Tierra Altiplano de Sierra Nevada)']\n",
      "['Tenute Silvio Nardi 1999  Brunello di Montalcino']\n",
      "['Scala Dei 2010 Cartoixa Red (Priorat)']\n",
      "['Prà 2011 Staforte  (Soave Classico)']\n",
      "['Harlow Ridge 2011 Chardonnay (Lodi)']\n",
      "['Alcardet 2015 Sommelier Tempranillo-Syrah-Garnacha Rosé (La Mancha)']\n",
      "['Sierra Cantabria 2006 Amancio  (Rioja)']\n",
      "['Incognito 2008 Red (Lodi)']\n",
      "taster_name 10\n",
      "Top 10 title:\n",
      "['Prà 2011 Staforte  (Soave Classico)']\n",
      "[\"Tinazzi 2010 Ca' de' Rocchi Monterè  (Valpolicella Superiore Ripasso)\"]\n",
      "['Columbia Winery 1998 Syrah (Yakima Valley)']\n",
      "['Gresser NV Recumbent Red (Oregon)']\n",
      "[\"Paradise Ridge 2003 Ladi's Vineyard Cabernet Sauvignon (Sonoma County)\"]\n",
      "['Castillo De Feliciana 2011 Reserve Tempranillo (Columbia Valley (WA))']\n",
      "['Villagrán 2007 Cortijo de Balsillas Tempranillo (Vino de la Tierra Altiplano de Sierra Nevada)']\n",
      "['Harlow Ridge 2011 Chardonnay (Lodi)']\n",
      "['Incognito 2008 Red (Lodi)']\n",
      "['Scala Dei 2010 Cartoixa Red (Priorat)']\n",
      "taster_name 11\n",
      "Top 10 title:\n",
      "['Corte Giacobbe 2015  Soave Superiore']\n",
      "['Carlisle 2013 Old Vines Zinfandel (Russian River Valley)']\n",
      "['Peju 2012 Thalia Red (Napa Valley)']\n",
      "['Ridge 2012 Bento Dusi Ranch Zinfandel (Paso Robles)']\n",
      "['Harlow Ridge 2011 Chardonnay (Lodi)']\n",
      "['Cottanera 2014 Contrada Calderara Bianco  (Etna)']\n",
      "['Robert Ramsay 2014 Par La Mer Red (Horse Heaven Hills)']\n",
      "[\"Paradise Ridge 2003 Ladi's Vineyard Cabernet Sauvignon (Sonoma County)\"]\n",
      "['Larkspur 2013 Pinot Noir (Oregon)']\n",
      "['Betz Family 2013 Père de Famille Cabernet Sauvignon (Columbia Valley (WA))']\n",
      "taster_name 12\n",
      "Top 10 title:\n",
      "['Gundlach Bundschu 2007 Estate Vineyard Chardonnay (Sonoma Valley)']\n",
      "['Lion-Gri 2011 Kagor Special Pastoral Cabernet Sauvignon (Moldova)']\n",
      "['Scala Dei 2010 Cartoixa Red (Priorat)']\n",
      "['Frank Family 2012 Reserve Zinfandel (Chiles Valley)']\n",
      "['Harlow Ridge 2011 Chardonnay (Lodi)']\n",
      "['Quilceda Creek 2008 Cabernet Sauvignon (Columbia Valley (WA))']\n",
      "['Yalumba 2012 The Strapper Grenache-Shiraz-Mataro G-S-M (Barossa)']\n",
      "['Peju 2012 Thalia Red (Napa Valley)']\n",
      "[\"Paradise Ridge 2003 Ladi's Vineyard Cabernet Sauvignon (Sonoma County)\"]\n",
      "['Larkspur 2013 Pinot Noir (Oregon)']\n",
      "taster_name 13\n",
      "Top 10 title:\n",
      "['Kay Brothers 2010 Amery Vineyard Block 6 Shiraz (McLaren Vale)']\n",
      "['Prà 2011 Staforte  (Soave Classico)']\n",
      "['Bodega Patritti 2010 Lassia Select Red (Patagonia)']\n",
      "['Château Laffitte Laujac 2010 L de Laffitte Laujac  (Médoc)']\n",
      "['Harlow Ridge 2011 Chardonnay (Lodi)']\n",
      "['Quilceda Creek 2008 Cabernet Sauvignon (Columbia Valley (WA))']\n",
      "['Signorello 2005 Padrone Proprietary Red Wine Red (Napa Valley)']\n",
      "[\"Paradise Ridge 2003 Ladi's Vineyard Cabernet Sauvignon (Sonoma County)\"]\n",
      "['Swanson 2005 Alexis Cabernet Sauvignon (Oakville)']\n",
      "['Incognito 2008 Red (Lodi)']\n"
     ]
    },
    {
     "name": "stdout",
     "output_type": "stream",
     "text": [
      "taster_name 14\n",
      "Top 10 title:\n",
      "['Pey-Marin 2013 The Shell Mound Riesling (Marin County)']\n",
      "['Azelia 2011 Bricco Fiasco  (Barolo)']\n",
      "['Ginestet 2013 Château Pierrouselle  (Bordeaux)']\n",
      "['Betz Family 2013 Père de Famille Cabernet Sauvignon (Columbia Valley (WA))']\n",
      "['Melville 2012 Clone 76 Inox Estate Chardonnay (Sta. Rita Hills)']\n",
      "['Cayuse 2010 Edith Rosé (Walla Walla Valley (OR))']\n",
      "[\"Paradise Ridge 2003 Ladi's Vineyard Cabernet Sauvignon (Sonoma County)\"]\n",
      "['Cottanera 2014 Contrada Calderara Bianco  (Etna)']\n",
      "[\"Tenuta Rocca 2016  Dolcetto d'Alba\"]\n",
      "['Robert Ramsay 2014 Par La Mer Red (Horse Heaven Hills)']\n",
      "taster_name 15\n",
      "Top 10 title:\n",
      "['Fenestra 2009 Graciano (Lodi)']\n",
      "['Parras Wines 2015 Quinta do Gradil Branco White (Lisboa)']\n",
      "['Pacifico Sur 2008 Reserve Pinot Noir (Curicó Valley)']\n",
      "['Château Julian 2010  Bordeaux Blanc']\n",
      "['Valle Hermoso 2014 Elegido Gran Reserva Malbec (Colchagua Valley)']\n",
      "['Craneford 2006 Allyson Parsons Cabernet Sauvignon (Barossa Valley)']\n",
      "['Markus Molitor 2010 Zeltinger Sonnenuhr Spätlese Dry Riesling (Mosel)']\n",
      "['Plaisance Ranch 2014 Barrel Fermented Chardonnay (Applegate Valley)']\n",
      "['Aguijón De Abeja 2015 Bonarda (Argentina)']\n",
      "['Symington Family Estates 2012 Altano Red (Douro)']\n",
      "taster_name 16\n",
      "Top 10 title:\n",
      "['Amici 2012 Sauvignon Blanc (Napa Valley)']\n",
      "['Château Pindefleurs 2013  Saint-Émilion']\n",
      "['Château Nenin 2010  Pomerol']\n",
      "['Weibel Family 2012 Patriot Red (Mendocino County)']\n",
      "['Gruber Röschitz 2015 Grüner Veltliner (Weinviertel)']\n",
      "['Kay Brothers 2010 Amery Vineyard Block 6 Shiraz (McLaren Vale)']\n",
      "['Robert Weil 2014 Kiedrich Gräfenberg Trockenbeerenauslese Riesling (Rheingau)']\n",
      "['Harlow Ridge 2011 Chardonnay (Lodi)']\n",
      "['Tenute Silvio Nardi 1999  Brunello di Montalcino']\n",
      "['Incognito 2008 Red (Lodi)']\n",
      "taster_name 17\n",
      "Top 10 title:\n",
      "['Bigi 2012 Amabile  (Orvieto Classico)']\n",
      "['St. Pauls 2014 Pinot Grigio (Alto Adige)']\n",
      "['Frank Family 2012 Reserve Zinfandel (Chiles Valley)']\n",
      "['Obelisco Estate 2011 Chardonnay (Columbia Valley (WA))']\n",
      "['Altesino 2012  Rosso di Montalcino']\n",
      "['Talbott 2009 Sleepy Hollow Vineyard Chardonnay (Santa Lucia Highlands)']\n",
      "['Henriet-Bazin 2009 Premier Cru Brut Nature Millésime  (Champagne)']\n",
      "['Dreolino 2011 Riserva  (Chianti Rufina)']\n",
      "['Azelia 2011 Bricco Fiasco  (Barolo)']\n",
      "['Colombera & Garella 2011  Bramaterra']\n",
      "taster_name 18\n",
      "Top 10 title:\n",
      "['Kuentz-Bas 2014 Trois Chateaux Riesling (Alsace)']\n",
      "[\"Veedercrest 2005 Vintner's Reserve Cabernet Sauvignon (Rutherford)\"]\n",
      "['Pierre Chardigny 2015 Vieilles Vignes  (Saint-Véran)']\n",
      "['Giacomo Grimaldi 2005 Le Coste  (Barolo)']\n"
     ]
    },
    {
     "ename": "ValueError",
     "evalue": "can only convert an array of size 1 to a Python scalar",
     "output_type": "error",
     "traceback": [
      "\u001b[0;31m---------------------------------------------------------------------------\u001b[0m",
      "\u001b[0;31mValueError\u001b[0m                                Traceback (most recent call last)",
      "Cell \u001b[0;32mIn[50], line 10\u001b[0m\n\u001b[1;32m      8\u001b[0m \u001b[38;5;28mprint\u001b[39m(\u001b[38;5;124m\"\u001b[39m\u001b[38;5;124mTop 10 title:\u001b[39m\u001b[38;5;124m\"\u001b[39m)\n\u001b[1;32m      9\u001b[0m \u001b[38;5;28;01mfor\u001b[39;00m title_index \u001b[38;5;129;01min\u001b[39;00m top_title:\n\u001b[0;32m---> 10\u001b[0m     title \u001b[38;5;241m=\u001b[39m \u001b[43mget_names_for_indexes\u001b[49m\u001b[43m(\u001b[49m\u001b[43m[\u001b[49m\u001b[43mtitle_index\u001b[49m\u001b[43m]\u001b[49m\u001b[43m)\u001b[49m  \u001b[38;5;66;03m# Pass a list with a single index\u001b[39;00m\n\u001b[1;32m     11\u001b[0m     \u001b[38;5;28mprint\u001b[39m(title)\n",
      "Cell \u001b[0;32mIn[46], line 2\u001b[0m, in \u001b[0;36mget_names_for_indexes\u001b[0;34m(indexes)\u001b[0m\n\u001b[1;32m      1\u001b[0m \u001b[38;5;28;01mdef\u001b[39;00m \u001b[38;5;21mget_names_for_indexes\u001b[39m(indexes):\n\u001b[0;32m----> 2\u001b[0m     \u001b[38;5;28;01mreturn\u001b[39;00m [df[df[\u001b[38;5;124m\"\u001b[39m\u001b[38;5;124mtitle\u001b[39m\u001b[38;5;124m\"\u001b[39m]\u001b[38;5;241m==\u001b[39mtitle_ids[i]][\u001b[38;5;124m\"\u001b[39m\u001b[38;5;124mtitle\u001b[39m\u001b[38;5;124m\"\u001b[39m]\u001b[38;5;241m.\u001b[39mitem() \u001b[38;5;28;01mfor\u001b[39;00m i \u001b[38;5;129;01min\u001b[39;00m indexes]\n",
      "Cell \u001b[0;32mIn[46], line 2\u001b[0m, in \u001b[0;36m<listcomp>\u001b[0;34m(.0)\u001b[0m\n\u001b[1;32m      1\u001b[0m \u001b[38;5;28;01mdef\u001b[39;00m \u001b[38;5;21mget_names_for_indexes\u001b[39m(indexes):\n\u001b[0;32m----> 2\u001b[0m     \u001b[38;5;28;01mreturn\u001b[39;00m [\u001b[43mdf\u001b[49m\u001b[43m[\u001b[49m\u001b[43mdf\u001b[49m\u001b[43m[\u001b[49m\u001b[38;5;124;43m\"\u001b[39;49m\u001b[38;5;124;43mtitle\u001b[39;49m\u001b[38;5;124;43m\"\u001b[39;49m\u001b[43m]\u001b[49m\u001b[38;5;241;43m==\u001b[39;49m\u001b[43mtitle_ids\u001b[49m\u001b[43m[\u001b[49m\u001b[43mi\u001b[49m\u001b[43m]\u001b[49m\u001b[43m]\u001b[49m\u001b[43m[\u001b[49m\u001b[38;5;124;43m\"\u001b[39;49m\u001b[38;5;124;43mtitle\u001b[39;49m\u001b[38;5;124;43m\"\u001b[39;49m\u001b[43m]\u001b[49m\u001b[38;5;241;43m.\u001b[39;49m\u001b[43mitem\u001b[49m\u001b[43m(\u001b[49m\u001b[43m)\u001b[49m \u001b[38;5;28;01mfor\u001b[39;00m i \u001b[38;5;129;01min\u001b[39;00m indexes]\n",
      "File \u001b[0;32m~/miniconda3/envs/stem/lib/python3.9/site-packages/pandas/core/base.py:347\u001b[0m, in \u001b[0;36mIndexOpsMixin.item\u001b[0;34m(self)\u001b[0m\n\u001b[1;32m    345\u001b[0m \u001b[38;5;28;01mif\u001b[39;00m \u001b[38;5;28mlen\u001b[39m(\u001b[38;5;28mself\u001b[39m) \u001b[38;5;241m==\u001b[39m \u001b[38;5;241m1\u001b[39m:\n\u001b[1;32m    346\u001b[0m     \u001b[38;5;28;01mreturn\u001b[39;00m \u001b[38;5;28mnext\u001b[39m(\u001b[38;5;28miter\u001b[39m(\u001b[38;5;28mself\u001b[39m))\n\u001b[0;32m--> 347\u001b[0m \u001b[38;5;28;01mraise\u001b[39;00m \u001b[38;5;167;01mValueError\u001b[39;00m(\u001b[38;5;124m\"\u001b[39m\u001b[38;5;124mcan only convert an array of size 1 to a Python scalar\u001b[39m\u001b[38;5;124m\"\u001b[39m)\n",
      "\u001b[0;31mValueError\u001b[0m: can only convert an array of size 1 to a Python scalar"
     ]
    }
   ],
   "source": [
    "# iterate over all user indices\n",
    "for taster_name_index in range(num_taster_name):\n",
    "    # Get top 10 movies for the current user\n",
    "    top_title = get_top_n(taster_name_index, 10)\n",
    "    \n",
    "    # Print the results\n",
    "    print(\"taster_name\", taster_name_index)\n",
    "    print(\"Top 10 title:\")\n",
    "    for title_index in top_title:\n",
    "        title = get_names_for_indexes([title_index])  # Pass a list with a single index\n",
    "        print(title)\n"
   ]
  },
  {
   "cell_type": "code",
   "execution_count": 107,
   "metadata": {},
   "outputs": [],
   "source": [
    "def calculate_similarity_matrix(taster_name, n):\n",
    "    top_title_indexes = get_top_n_indexes(taster_name, n)\n",
    "    title_embeddings = model.title_embedding(torch.LongTensor(top_title_indexes)).detach().numpy()\n",
    "\n",
    "    similarity_matrix = cosine_similarity(title_embedding)\n",
    "    return similarity_matrix\n"
   ]
  },
  {
   "cell_type": "code",
   "execution_count": 108,
   "metadata": {},
   "outputs": [],
   "source": [
    "# Instantiate the RecommenderNet class\n",
    "model = RecommenderNet(num_taster_name, num_title, EMBEDDING_SIZE)\n",
    "\n",
    "# Call the forward method with input data\n",
    "inputs = torch.tensor([[taster_name_index, title_index]])\n",
    "title_embedding = model.forward(inputs).detach().numpy()\n"
   ]
  },
  {
   "cell_type": "code",
   "execution_count": 109,
   "metadata": {},
   "outputs": [],
   "source": [
    "title_embedding = title_embedding.reshape(-1, 1)"
   ]
  },
  {
   "cell_type": "code",
   "execution_count": 115,
   "metadata": {},
   "outputs": [
    {
     "name": "stdout",
     "output_type": "stream",
     "text": [
      "Difference matrix for top 10 movies of user Kerin O’Keefe\n",
      "[[0.]]\n",
      "\n",
      "Difference matrix for top 10 movies of user Roger Voss\n",
      "[[0.]]\n",
      "\n",
      "Difference matrix for top 10 movies of user Paul Gregutt\n",
      "[[0.]]\n",
      "\n",
      "Difference matrix for top 10 movies of user Alexander Peartree\n",
      "[[0.]]\n",
      "\n",
      "Difference matrix for top 10 movies of user Michael Schachner\n",
      "[[0.]]\n",
      "\n",
      "Difference matrix for top 10 movies of user Anna Lee C. Iijima\n",
      "[[0.]]\n",
      "\n",
      "Difference matrix for top 10 movies of user Virginie Boone\n",
      "[[0.]]\n",
      "\n",
      "Difference matrix for top 10 movies of user Matt Kettmann\n",
      "[[0.]]\n",
      "\n",
      "Difference matrix for top 10 movies of user nan\n",
      "[[0.]]\n",
      "\n",
      "Difference matrix for top 10 movies of user Sean P. Sullivan\n",
      "[[0.]]\n",
      "\n",
      "Difference matrix for top 10 movies of user Jim Gordon\n",
      "[[0.]]\n",
      "\n",
      "Difference matrix for top 10 movies of user Joe Czerwinski\n",
      "[[0.]]\n",
      "\n",
      "Difference matrix for top 10 movies of user Anne Krebiehl MW\n",
      "[[0.]]\n",
      "\n",
      "Difference matrix for top 10 movies of user Lauren Buzzeo\n",
      "[[0.]]\n",
      "\n",
      "Difference matrix for top 10 movies of user Mike DeSimone\n",
      "[[0.]]\n",
      "\n",
      "Difference matrix for top 10 movies of user Jeff Jenssen\n",
      "[[0.]]\n",
      "\n",
      "Difference matrix for top 10 movies of user Susan Kostrzewa\n",
      "[[0.]]\n",
      "\n",
      "Difference matrix for top 10 movies of user Carrie Dykes\n",
      "[[0.]]\n",
      "\n",
      "Difference matrix for top 10 movies of user Fiona Adams\n",
      "[[0.]]\n",
      "\n",
      "Difference matrix for top 10 movies of user Christina Pickard\n",
      "[[0.]]\n",
      "\n"
     ]
    }
   ],
   "source": [
    "def calculate_mean_difference(taster_name=0, n=10):\n",
    "    similarity_matrix = calculate_similarity_matrix(taster_name, n)\n",
    "    difference_matrix = 1 - similarity_matrix\n",
    "    return difference_matrix\n",
    "\n",
    "def calculate_difference_matrix_for_all_taster_name(n=10):\n",
    "    difference_matrices = []\n",
    "    for taster_name in taster_name_ids:\n",
    "        difference_matrix = calculate_difference_matrix(num_taster_name-1, n)\n",
    "        difference_matrices.append(difference_matrix)\n",
    "    return difference_matrices\n",
    "\n",
    "# Example usage for calculating difference matrices for all users' top 10 movies\n",
    "difference_matrices = calculate_difference_matrix_for_all_taster_name(n=10)\n",
    "for i, taster_name in enumerate(taster_name_ids):\n",
    "    print(\"Difference matrix for top 10 movies of user\", taster_name)\n",
    "    print(difference_matrices[i])\n",
    "    print()\n"
   ]
  },
  {
   "cell_type": "code",
   "execution_count": 116,
   "metadata": {},
   "outputs": [
    {
     "name": "stdout",
     "output_type": "stream",
     "text": [
      "Mean difference for the entire dataset (all users' top 10 movies):\n",
      "0.0\n"
     ]
    }
   ],
   "source": [
    "#define calculate_mean_difference_for_dataset\n",
    "def calculate_mean_difference_for_dataset(n=10):\n",
    "    mean_differences = []\n",
    "    for taster_name in taster_name_ids:\n",
    "        mean_difference = calculate_mean_difference(num_taster_name-1, n)\n",
    "        mean_differences.append(mean_difference)\n",
    "    mean_difference_dataset = np.mean(mean_differences)\n",
    "    return mean_difference_dataset\n",
    "\n",
    "# example usage for calculating the mean difference for the entire dataset\n",
    "mean_difference_dataset = calculate_mean_difference_for_dataset(n=10)\n",
    "print(\"Mean difference for the entire dataset (all users' top 10 movies):\")\n",
    "print(mean_difference_dataset) #here we get result"
   ]
  },
  {
   "cell_type": "code",
   "execution_count": null,
   "metadata": {},
   "outputs": [],
   "source": []
  }
 ],
 "metadata": {
  "kernelspec": {
   "display_name": "Python 3",
   "language": "python",
   "name": "python3"
  },
  "language_info": {
   "codemirror_mode": {
    "name": "ipython",
    "version": 3
   },
   "file_extension": ".py",
   "mimetype": "text/x-python",
   "name": "python",
   "nbconvert_exporter": "python",
   "pygments_lexer": "ipython3",
   "version": "3.9.16"
  }
 },
 "nbformat": 4,
 "nbformat_minor": 2
}
